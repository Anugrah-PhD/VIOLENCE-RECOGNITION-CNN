{
  "cells": [
    {
      "cell_type": "code",
      "execution_count": null,
      "metadata": {
        "colab": {
          "base_uri": "https://localhost:8080/"
        },
        "id": "B2HqGzLQvgPe",
        "outputId": "91ea4c7b-9514-4b1e-d4f3-119c1ac3427d"
      },
      "outputs": [
        {
          "name": "stdout",
          "output_type": "stream",
          "text": [
            "Mounted at /content/drive\n"
          ]
        }
      ],
      "source": [
        "from google.colab import drive\n",
        "drive.mount('/content/drive')"
      ]
    },
    {
      "cell_type": "code",
      "execution_count": null,
      "metadata": {
        "colab": {
          "base_uri": "https://localhost:8080/"
        },
        "id": "v8VWqpUNpX2o",
        "outputId": "e790bf96-3c1c-46e7-a556-1ca112398ad8"
      },
      "outputs": [
        {
          "name": "stdout",
          "output_type": "stream",
          "text": [
            "Done!\n"
          ]
        }
      ],
      "source": [
        "%matplotlib inline\n",
        "import cv2\n",
        "import os\n",
        "import numpy as np\n",
        "import keras\n",
        "import matplotlib.pyplot as plt\n",
        "from random import shuffle\n",
        "import tensorflow as tf\n",
        "import tensorflow \n",
        "from tensorflow import keras\n",
        "# from keras.applications.resnet import ResNet101V2\n",
        "from keras import backend as K\n",
        "from keras.models import Model, Sequential\n",
        "from keras.layers import Input\n",
        "from keras.layers import LSTM,GRU\n",
        "from keras.layers import Dense, Activation,Dropout,TimeDistributed,Bidirectional,AveragePooling1D,Flatten, Reshape\n",
        "import sys\n",
        "import h5py\n",
        "import timeit\n",
        "\n",
        "print (\"Done!\")"
      ]
    },
    {
      "cell_type": "code",
      "execution_count": null,
      "metadata": {
        "colab": {
          "base_uri": "https://localhost:8080/",
          "height": 35
        },
        "id": "4OCEmR8DwKkI",
        "outputId": "85f86e62-a04c-4e5f-a25b-0860525ef38b"
      },
      "outputs": [
        {
          "data": {
            "application/vnd.google.colaboratory.intrinsic+json": {
              "type": "string"
            },
            "text/plain": [
              "'2.6.0'"
            ]
          },
          "execution_count": 4,
          "metadata": {},
          "output_type": "execute_result"
        }
      ],
      "source": [
        "keras.__version__"
      ]
    },
    {
      "cell_type": "markdown",
      "metadata": {
        "id": "jiuYtOyEp3nN"
      },
      "source": [
        "**Helper Functions**\n",
        "We will use the function print_progress to print the amount of videos processed"
      ]
    },
    {
      "cell_type": "code",
      "execution_count": null,
      "metadata": {
        "colab": {
          "base_uri": "https://localhost:8080/"
        },
        "id": "e8m5LDtUwZL6",
        "outputId": "f0fd41ea-0414-4c06-e391-965fc6421406"
      },
      "outputs": [
        {
          "name": "stdout",
          "output_type": "stream",
          "text": [
            "Done!\n"
          ]
        }
      ],
      "source": [
        "def print_progress(count, max_count):\n",
        "    # Percentage completion.\n",
        "    pct_complete = count / max_count\n",
        "\n",
        "    # Status-message. Note the \\r which means the line should\n",
        "    # overwrite itself.\n",
        "    msg = \"\\r- Progress: {0:.1%}\".format(pct_complete)\n",
        "\n",
        "    # Print it.\n",
        "    sys.stdout.write(msg)\n",
        "    sys.stdout.flush()\n",
        "\n",
        "print (\"Done!\")"
      ]
    },
    {
      "cell_type": "markdown",
      "metadata": {
        "id": "z6WHsz2eqhSG"
      },
      "source": [
        "\n",
        "**Load Data**\n",
        "The directory to place the video dataset"
      ]
    },
    {
      "cell_type": "code",
      "execution_count": null,
      "metadata": {
        "colab": {
          "base_uri": "https://localhost:8080/"
        },
        "id": "I_EhI1Bgweza",
        "outputId": "6b6a4db3-8d1f-42c1-8179-56d303095fc9"
      },
      "outputs": [
        {
          "name": "stdout",
          "output_type": "stream",
          "text": [
            "Done!\n",
            "/content/drive/My Drive/Colab Notebooks/TRAINING_DATASET_VIOLENCE_REAL_LIFE_HOCKEY_CREATED\n"
          ]
        }
      ],
      "source": [
        "in_dir = \"data\"\n",
        "\n",
        "in_dir = 'video-dataset-path'\n",
        "\n",
        "print (\"Done!\")\n",
        "\n",
        "print(in_dir)"
      ]
    },
    {
      "cell_type": "markdown",
      "metadata": {
        "id": "UxUdddJRsgnH"
      },
      "source": [
        "**Data-Dimensions**"
      ]
    },
    {
      "cell_type": "code",
      "execution_count": null,
      "metadata": {
        "colab": {
          "base_uri": "https://localhost:8080/"
        },
        "id": "e78PwQdqwkup",
        "outputId": "c7401940-55ea-488c-9937-862497cd8202"
      },
      "outputs": [
        {
          "name": "stdout",
          "output_type": "stream",
          "text": [
            "Done!\n"
          ]
        }
      ],
      "source": [
        "# Frame size  \n",
        "img_size = 224\n",
        "\n",
        "img_size_touple = (img_size, img_size)\n",
        "\n",
        "# Number of channels (RGB)\n",
        "num_channels = 3\n",
        "\n",
        "# Flat frame size\n",
        "img_size_flat = img_size * img_size * num_channels\n",
        "\n",
        "# Number of classes for classification (Violence-No Violence)\n",
        "num_classes = 2\n",
        "\n",
        "# Number of files to train\n",
        "_num_files_train = 1\n",
        "\n",
        "# Number of frames per video\n",
        "_images_per_file = 20\n",
        "\n",
        "# Number of frames per training set\n",
        "_num_images_train = _num_files_train * _images_per_file\n",
        "\n",
        "# Video extension\n",
        "video_exts = \".mp4\"\n",
        "\n",
        "print (\"Done!\")"
      ]
    },
    {
      "cell_type": "markdown",
      "metadata": {
        "id": "6cUpXo6DtSzO"
      },
      "source": [
        "\n",
        "**Helper-function for getting video frames**\n"
      ]
    },
    {
      "cell_type": "markdown",
      "metadata": {
        "id": "Qxo03zoFLtm8"
      },
      "source": [
        "USED IN get_transfer_value"
      ]
    },
    {
      "cell_type": "code",
      "execution_count": null,
      "metadata": {
        "colab": {
          "base_uri": "https://localhost:8080/"
        },
        "id": "BSbp72J7wk8G",
        "outputId": "2829f252-e271-4f10-d06a-a0fba30403f7"
      },
      "outputs": [
        {
          "name": "stdout",
          "output_type": "stream",
          "text": [
            "Done!\n"
          ]
        }
      ],
      "source": [
        "def get_frames(current_dir, file_name):\n",
        "    \n",
        "    in_file = os.path.join(current_dir, file_name)\n",
        "    \n",
        "    images = []\n",
        "    \n",
        "    vidcap = cv2.VideoCapture(in_file)\n",
        "    \n",
        "    success,image = vidcap.read()\n",
        "        \n",
        "    count = 0\n",
        "\n",
        "    while count<_images_per_file:\n",
        "                \n",
        "        RGB_img = cv2.cvtColor(image, cv2.COLOR_BGR2RGB)\n",
        "    \n",
        "        res = cv2.resize(RGB_img, dsize=(img_size, img_size),\n",
        "                                 interpolation=cv2.INTER_CUBIC)\n",
        "    \n",
        "        images.append(res)\n",
        "\n",
        "        image2=cv2.flip(image,1)\n",
        "\n",
        "        RGB_img = cv2.cvtColor(image2, cv2.COLOR_BGR2RGB)\n",
        "    \n",
        "        res2 = cv2.resize(RGB_img, dsize=(img_size, img_size),\n",
        "                                 interpolation=cv2.INTER_CUBIC)\n",
        "    \n",
        "        images.append(res2)\n",
        "    \n",
        "        success,image = vidcap.read()\n",
        "    \n",
        "        count += 1\n",
        "        \n",
        "    resul = np.array(images)\n",
        "    \n",
        "    resul = (resul / 255.).astype(np.float16)\n",
        "        \n",
        "    return resul\n",
        "\n",
        "print (\"Done!\")"
      ]
    },
    {
      "cell_type": "markdown",
      "metadata": {
        "id": "EzyBfyddxae9"
      },
      "source": [
        "**Helper function to get the names of the data downloaded and label it**"
      ]
    },
    {
      "cell_type": "code",
      "execution_count": null,
      "metadata": {
        "colab": {
          "base_uri": "https://localhost:8080/"
        },
        "id": "PMEuFNQwyW3B",
        "outputId": "34b4e1d6-2f6f-4ffb-c961-af91804680d0"
      },
      "outputs": [
        {
          "name": "stdout",
          "output_type": "stream",
          "text": [
            "Done!\n"
          ]
        }
      ],
      "source": [
        "def label_video_names(in_dir):\n",
        "    \n",
        "    # list containing video names\n",
        "    names = []\n",
        "    # list containin video labels [1, 0] if it has violence and [0, 1] if not\n",
        "    labels = []   \n",
        "   \n",
        "    for current_dir, dir_names,file_names in os.walk(in_dir):\n",
        "        \n",
        "        for file_name in file_names:\n",
        "            \n",
        "            if file_name[0:1] == 'V':\n",
        "                labels.append([1,0])\n",
        "                names.append(file_name)\n",
        "            elif file_name[0:2] == 'NV':\n",
        "                labels.append([0,1])\n",
        "                names.append(file_name)\n",
        "                     \n",
        "    #Dictionary       \n",
        "    c = list(zip(names,labels))\n",
        "    # Suffle the data (names and labels)\n",
        "    shuffle(c)\n",
        "    \n",
        "    names, labels = zip(*c)\n",
        "            \n",
        "    return names, labels\n",
        "\n",
        "print (\"Done!\")"
      ]
    },
    {
      "cell_type": "markdown",
      "metadata": {
        "id": "vpzJzt53z1RN"
      },
      "source": [
        "**Plot a video frame to see if data is correct**"
      ]
    },
    {
      "cell_type": "code",
      "execution_count": null,
      "metadata": {
        "colab": {
          "base_uri": "https://localhost:8080/"
        },
        "id": "GBMZCRYlyW7O",
        "outputId": "27d88d39-d51e-4368-c4a4-d35bca98206b"
      },
      "outputs": [
        {
          "name": "stdout",
          "output_type": "stream",
          "text": [
            "Done!\n"
          ]
        }
      ],
      "source": [
        "# First get the names and labels of the whole videos\n",
        "names, labels = label_video_names(in_dir)\n",
        "\n",
        "print (\"Done!\")"
      ]
    },
    {
      "cell_type": "code",
      "execution_count": null,
      "metadata": {
        "cellView": "both",
        "colab": {
          "base_uri": "https://localhost:8080/"
        },
        "id": "iuSstAi1yW80",
        "outputId": "6d923a4d-b06b-4ad3-f209-31f8756c7abb"
      },
      "outputs": [],
      "source": [
        "print(labels)\n",
        "print(names)\n",
        "print(len(names))"
      ]
    },
    {
      "cell_type": "markdown",
      "metadata": {
        "id": "Y_zicQ_E0H8g"
      },
      "source": [
        "Then we are going to load 20 frames of one video, for example.\n",
        "The video has violence, look at the name of the video, starts with 'V'"
      ]
    },
    {
      "cell_type": "code",
      "execution_count": null,
      "metadata": {
        "colab": {
          "base_uri": "https://localhost:8080/",
          "height": 35
        },
        "id": "CUaM2BRuyW1p",
        "outputId": "a55d69b6-7184-4566-96e4-572ebdc3004f"
      },
      "outputs": [
        {
          "data": {
            "application/vnd.google.colaboratory.intrinsic+json": {
              "type": "string"
            },
            "text/plain": [
              "'NV_ (1185).mp4'"
            ]
          },
          "execution_count": 12,
          "metadata": {},
          "output_type": "execute_result"
        }
      ],
      "source": [
        "\n",
        "names[12]"
      ]
    },
    {
      "cell_type": "code",
      "execution_count": null,
      "metadata": {
        "colab": {
          "base_uri": "https://localhost:8080/"
        },
        "id": "bHOxUhGCWYg3",
        "outputId": "31290ce8-0258-4c9f-b854-6c09288d074b"
      },
      "outputs": [
        {
          "data": {
            "text/plain": [
              "(40, 224, 224, 3)"
            ]
          },
          "execution_count": 13,
          "metadata": {},
          "output_type": "execute_result"
        }
      ],
      "source": [
        "frames = get_frames(in_dir, names[12])\n",
        "frames.shape"
      ]
    },
    {
      "cell_type": "markdown",
      "metadata": {
        "id": "MCbvyFkO0WEJ"
      },
      "source": [
        "\n",
        "Convert back the frames to uint8 pixel format to plot the frame"
      ]
    },
    {
      "cell_type": "code",
      "execution_count": null,
      "metadata": {
        "id": "F5mf1gV1WYoV"
      },
      "outputs": [],
      "source": [
        "\n",
        "visible_frame = (frames*255).astype('uint8')"
      ]
    },
    {
      "cell_type": "code",
      "execution_count": null,
      "metadata": {
        "colab": {
          "base_uri": "https://localhost:8080/",
          "height": 286
        },
        "id": "M4ODWYLcWYti",
        "outputId": "2390371c-5fc1-4f61-d993-6b240a17c3d1"
      },
      "outputs": [
        {
          "data": {
            "text/plain": [
              "<matplotlib.image.AxesImage at 0x7fdf57654f10>"
            ]
          },
          "execution_count": 15,
          "metadata": {},
          "output_type": "execute_result"
        },
        {
          "data": {
            "image/png": "[encoded data removed]",
            "text/plain": [
              "<Figure size 432x288 with 1 Axes>"
            ]
          },
          "metadata": {
            "needs_background": "light"
          },
          "output_type": "display_data"
        }
      ],
      "source": [
        "plt.imshow(visible_frame[3])"
      ]
    },
    {
      "cell_type": "code",
      "execution_count": null,
      "metadata": {
        "colab": {
          "base_uri": "https://localhost:8080/",
          "height": 286
        },
        "id": "WyiEhj6kWY1s",
        "outputId": "bcb8fd29-821a-44e3-c0f7-1af1f1dd253c"
      },
      "outputs": [
        {
          "data": {
            "text/plain": [
              "<matplotlib.image.AxesImage at 0x7fdf57136350>"
            ]
          },
          "execution_count": 16,
          "metadata": {},
          "output_type": "execute_result"
        },
        {
          "data": {
            "image/png": "[encoded data removed]",
            "text/plain": [
              "<Figure size 432x288 with 1 Axes>"
            ]
          },
          "metadata": {
            "needs_background": "light"
          },
          "output_type": "display_data"
        }
      ],
      "source": [
        "plt.imshow(visible_frame[15])"
      ]
    },
    {
      "cell_type": "markdown",
      "metadata": {
        "id": "dasb456n1JtA"
      },
      "source": [
        "**Pre-Trained Model: RESNET101**"
      ]
    },
    {
      "cell_type": "code",
      "execution_count": null,
      "metadata": {
        "colab": {
          "base_uri": "https://localhost:8080/"
        },
        "id": "8JU-KXdgWYsj",
        "outputId": "6ab9d026-57f8-4baf-9e67-b782519d064e"
      },
      "outputs": [
        {
          "name": "stdout",
          "output_type": "stream",
          "text": [
            "Downloading data from https://storage.googleapis.com/tensorflow/keras-applications/resnet/resnet101v2_weights_tf_dim_ordering_tf_kernels.h5\n",
            "179519488/179518384 [==============================] - 2s 0us/step\n",
            "179527680/179518384 [==============================] - 2s 0us/step\n"
          ]
        }
      ],
      "source": [
        "# image_model = ResNet101V2(include_top=True, weights='imagenet')\n",
        "\n",
        "image_model = tf.keras.applications.ResNet101V2(\n",
        "    include_top=True,\n",
        "    weights=\"imagenet\"\n",
        ")"
      ]
    },
    {
      "cell_type": "markdown",
      "metadata": {
        "id": "j5JoZb631n9g"
      },
      "source": [
        "**The model summary**"
      ]
    },
    {
      "cell_type": "code",
      "execution_count": null,
      "metadata": {
        "colab": {
          "base_uri": "https://localhost:8080/"
        },
        "id": "vAS1qTYGWYnN",
        "outputId": "8f30520b-cd61-42c1-b8bd-8772bcf052c2"
      },
      "outputs": [
        {
          "name": "stdout",
          "output_type": "stream",
          "text": [
            "Model: \"resnet101v2\"\n",
            "__________________________________________________________________________________________________\n",
            "Layer (type)                    Output Shape         Param #     Connected to                     \n",
            "==================================================================================================\n",
            "input_1 (InputLayer)            [(None, 224, 224, 3) 0                                            \n",
            "__________________________________________________________________________________________________\n",
            "conv1_pad (ZeroPadding2D)       (None, 230, 230, 3)  0           input_1[0][0]                    \n",
            "__________________________________________________________________________________________________\n",
            "conv1_conv (Conv2D)             (None, 112, 112, 64) 9472        conv1_pad[0][0]                  \n",
            "__________________________________________________________________________________________________\n",
            "pool1_pad (ZeroPadding2D)       (None, 114, 114, 64) 0           conv1_conv[0][0]                 \n",
            "__________________________________________________________________________________________________\n",
            "pool1_pool (MaxPooling2D)       (None, 56, 56, 64)   0           pool1_pad[0][0]                  \n",
            "__________________________________________________________________________________________________\n",
            "conv2_block1_preact_bn (BatchNo (None, 56, 56, 64)   256         pool1_pool[0][0]                 \n",
            "__________________________________________________________________________________________________\n",
            "conv2_block1_preact_relu (Activ (None, 56, 56, 64)   0           conv2_block1_preact_bn[0][0]     \n",
            "__________________________________________________________________________________________________\n",
            "conv2_block1_1_conv (Conv2D)    (None, 56, 56, 64)   4096        conv2_block1_preact_relu[0][0]   \n",
            "__________________________________________________________________________________________________\n",
            "conv2_block1_1_bn (BatchNormali (None, 56, 56, 64)   256         conv2_block1_1_conv[0][0]        \n",
            "__________________________________________________________________________________________________\n",
            "conv2_block1_1_relu (Activation (None, 56, 56, 64)   0           conv2_block1_1_bn[0][0]          \n",
            "__________________________________________________________________________________________________\n",
            "conv2_block1_2_pad (ZeroPadding (None, 58, 58, 64)   0           conv2_block1_1_relu[0][0]        \n",
            "__________________________________________________________________________________________________\n",
            "conv2_block1_2_conv (Conv2D)    (None, 56, 56, 64)   36864       conv2_block1_2_pad[0][0]         \n",
            "__________________________________________________________________________________________________\n",
            "conv2_block1_2_bn (BatchNormali (None, 56, 56, 64)   256         conv2_block1_2_conv[0][0]        \n",
            "__________________________________________________________________________________________________\n",
            "conv2_block1_2_relu (Activation (None, 56, 56, 64)   0           conv2_block1_2_bn[0][0]          \n",
            "__________________________________________________________________________________________________\n",
            "conv2_block1_0_conv (Conv2D)    (None, 56, 56, 256)  16640       conv2_block1_preact_relu[0][0]   \n",
            "__________________________________________________________________________________________________\n",
            "conv2_block1_3_conv (Conv2D)    (None, 56, 56, 256)  16640       conv2_block1_2_relu[0][0]        \n",
            "__________________________________________________________________________________________________\n",
            "conv2_block1_out (Add)          (None, 56, 56, 256)  0           conv2_block1_0_conv[0][0]        \n",
            "                                                                 conv2_block1_3_conv[0][0]        \n",
            "__________________________________________________________________________________________________\n",
            "conv2_block2_preact_bn (BatchNo (None, 56, 56, 256)  1024        conv2_block1_out[0][0]           \n",
            "__________________________________________________________________________________________________\n",
            "conv2_block2_preact_relu (Activ (None, 56, 56, 256)  0           conv2_block2_preact_bn[0][0]     \n",
            "__________________________________________________________________________________________________\n",
            "conv2_block2_1_conv (Conv2D)    (None, 56, 56, 64)   16384       conv2_block2_preact_relu[0][0]   \n",
            "__________________________________________________________________________________________________\n",
            "conv2_block2_1_bn (BatchNormali (None, 56, 56, 64)   256         conv2_block2_1_conv[0][0]        \n",
            "__________________________________________________________________________________________________\n",
            "conv2_block2_1_relu (Activation (None, 56, 56, 64)   0           conv2_block2_1_bn[0][0]          \n",
            "__________________________________________________________________________________________________\n",
            "conv2_block2_2_pad (ZeroPadding (None, 58, 58, 64)   0           conv2_block2_1_relu[0][0]        \n",
            "__________________________________________________________________________________________________\n",
            "conv2_block2_2_conv (Conv2D)    (None, 56, 56, 64)   36864       conv2_block2_2_pad[0][0]         \n",
            "__________________________________________________________________________________________________\n",
            "conv2_block2_2_bn (BatchNormali (None, 56, 56, 64)   256         conv2_block2_2_conv[0][0]        \n",
            "__________________________________________________________________________________________________\n",
            "conv2_block2_2_relu (Activation (None, 56, 56, 64)   0           conv2_block2_2_bn[0][0]          \n",
            "__________________________________________________________________________________________________\n",
            "conv2_block2_3_conv (Conv2D)    (None, 56, 56, 256)  16640       conv2_block2_2_relu[0][0]        \n",
            "__________________________________________________________________________________________________\n",
            "conv2_block2_out (Add)          (None, 56, 56, 256)  0           conv2_block1_out[0][0]           \n",
            "                                                                 conv2_block2_3_conv[0][0]        \n",
            "__________________________________________________________________________________________________\n",
            "conv2_block3_preact_bn (BatchNo (None, 56, 56, 256)  1024        conv2_block2_out[0][0]           \n",
            "__________________________________________________________________________________________________\n",
            "conv2_block3_preact_relu (Activ (None, 56, 56, 256)  0           conv2_block3_preact_bn[0][0]     \n",
            "__________________________________________________________________________________________________\n",
            "conv2_block3_1_conv (Conv2D)    (None, 56, 56, 64)   16384       conv2_block3_preact_relu[0][0]   \n",
            "__________________________________________________________________________________________________\n",
            "conv2_block3_1_bn (BatchNormali (None, 56, 56, 64)   256         conv2_block3_1_conv[0][0]        \n",
            "__________________________________________________________________________________________________\n",
            "conv2_block3_1_relu (Activation (None, 56, 56, 64)   0           conv2_block3_1_bn[0][0]          \n",
            "__________________________________________________________________________________________________\n",
            "conv2_block3_2_pad (ZeroPadding (None, 58, 58, 64)   0           conv2_block3_1_relu[0][0]        \n",
            "__________________________________________________________________________________________________\n",
            "conv2_block3_2_conv (Conv2D)    (None, 28, 28, 64)   36864       conv2_block3_2_pad[0][0]         \n",
            "__________________________________________________________________________________________________\n",
            "conv2_block3_2_bn (BatchNormali (None, 28, 28, 64)   256         conv2_block3_2_conv[0][0]        \n",
            "__________________________________________________________________________________________________\n",
            "conv2_block3_2_relu (Activation (None, 28, 28, 64)   0           conv2_block3_2_bn[0][0]          \n",
            "__________________________________________________________________________________________________\n",
            "max_pooling2d (MaxPooling2D)    (None, 28, 28, 256)  0           conv2_block2_out[0][0]           \n",
            "__________________________________________________________________________________________________\n",
            "conv2_block3_3_conv (Conv2D)    (None, 28, 28, 256)  16640       conv2_block3_2_relu[0][0]        \n",
            "__________________________________________________________________________________________________\n",
            "conv2_block3_out (Add)          (None, 28, 28, 256)  0           max_pooling2d[0][0]              \n",
            "                                                                 conv2_block3_3_conv[0][0]        \n",
            "__________________________________________________________________________________________________\n",
            "conv3_block1_preact_bn (BatchNo (None, 28, 28, 256)  1024        conv2_block3_out[0][0]           \n",
            "__________________________________________________________________________________________________\n",
            "conv3_block1_preact_relu (Activ (None, 28, 28, 256)  0           conv3_block1_preact_bn[0][0]     \n",
            "__________________________________________________________________________________________________\n",
            "conv3_block1_1_conv (Conv2D)    (None, 28, 28, 128)  32768       conv3_block1_preact_relu[0][0]   \n",
            "__________________________________________________________________________________________________\n",
            "conv3_block1_1_bn (BatchNormali (None, 28, 28, 128)  512         conv3_block1_1_conv[0][0]        \n",
            "__________________________________________________________________________________________________\n",
            "conv3_block1_1_relu (Activation (None, 28, 28, 128)  0           conv3_block1_1_bn[0][0]          \n",
            "__________________________________________________________________________________________________\n",
            "conv3_block1_2_pad (ZeroPadding (None, 30, 30, 128)  0           conv3_block1_1_relu[0][0]        \n",
            "__________________________________________________________________________________________________\n",
            "conv3_block1_2_conv (Conv2D)    (None, 28, 28, 128)  147456      conv3_block1_2_pad[0][0]         \n",
            "__________________________________________________________________________________________________\n",
            "conv3_block1_2_bn (BatchNormali (None, 28, 28, 128)  512         conv3_block1_2_conv[0][0]        \n",
            "__________________________________________________________________________________________________\n",
            "conv3_block1_2_relu (Activation (None, 28, 28, 128)  0           conv3_block1_2_bn[0][0]          \n",
            "__________________________________________________________________________________________________\n",
            "conv3_block1_0_conv (Conv2D)    (None, 28, 28, 512)  131584      conv3_block1_preact_relu[0][0]   \n",
            "__________________________________________________________________________________________________\n",
            "conv3_block1_3_conv (Conv2D)    (None, 28, 28, 512)  66048       conv3_block1_2_relu[0][0]        \n",
            "__________________________________________________________________________________________________\n",
            "conv3_block1_out (Add)          (None, 28, 28, 512)  0           conv3_block1_0_conv[0][0]        \n",
            "                                                                 conv3_block1_3_conv[0][0]        \n",
            "__________________________________________________________________________________________________\n",
            "conv3_block2_preact_bn (BatchNo (None, 28, 28, 512)  2048        conv3_block1_out[0][0]           \n",
            "__________________________________________________________________________________________________\n",
            "conv3_block2_preact_relu (Activ (None, 28, 28, 512)  0           conv3_block2_preact_bn[0][0]     \n",
            "__________________________________________________________________________________________________\n",
            "conv3_block2_1_conv (Conv2D)    (None, 28, 28, 128)  65536       conv3_block2_preact_relu[0][0]   \n",
            "__________________________________________________________________________________________________\n",
            "conv3_block2_1_bn (BatchNormali (None, 28, 28, 128)  512         conv3_block2_1_conv[0][0]        \n",
            "__________________________________________________________________________________________________\n",
            "conv3_block2_1_relu (Activation (None, 28, 28, 128)  0           conv3_block2_1_bn[0][0]          \n",
            "__________________________________________________________________________________________________\n",
            "conv3_block2_2_pad (ZeroPadding (None, 30, 30, 128)  0           conv3_block2_1_relu[0][0]        \n",
            "__________________________________________________________________________________________________\n",
            "conv3_block2_2_conv (Conv2D)    (None, 28, 28, 128)  147456      conv3_block2_2_pad[0][0]         \n",
            "__________________________________________________________________________________________________\n",
            "conv3_block2_2_bn (BatchNormali (None, 28, 28, 128)  512         conv3_block2_2_conv[0][0]        \n",
            "__________________________________________________________________________________________________\n",
            "conv3_block2_2_relu (Activation (None, 28, 28, 128)  0           conv3_block2_2_bn[0][0]          \n",
            "__________________________________________________________________________________________________\n",
            "conv3_block2_3_conv (Conv2D)    (None, 28, 28, 512)  66048       conv3_block2_2_relu[0][0]        \n",
            "__________________________________________________________________________________________________\n",
            "conv3_block2_out (Add)          (None, 28, 28, 512)  0           conv3_block1_out[0][0]           \n",
            "                                                                 conv3_block2_3_conv[0][0]        \n",
            "__________________________________________________________________________________________________\n",
            "conv3_block3_preact_bn (BatchNo (None, 28, 28, 512)  2048        conv3_block2_out[0][0]           \n",
            "__________________________________________________________________________________________________\n",
            "conv3_block3_preact_relu (Activ (None, 28, 28, 512)  0           conv3_block3_preact_bn[0][0]     \n",
            "__________________________________________________________________________________________________\n",
            "conv3_block3_1_conv (Conv2D)    (None, 28, 28, 128)  65536       conv3_block3_preact_relu[0][0]   \n",
            "__________________________________________________________________________________________________\n",
            "conv3_block3_1_bn (BatchNormali (None, 28, 28, 128)  512         conv3_block3_1_conv[0][0]        \n",
            "__________________________________________________________________________________________________\n",
            "conv3_block3_1_relu (Activation (None, 28, 28, 128)  0           conv3_block3_1_bn[0][0]          \n",
            "__________________________________________________________________________________________________\n",
            "conv3_block3_2_pad (ZeroPadding (None, 30, 30, 128)  0           conv3_block3_1_relu[0][0]        \n",
            "__________________________________________________________________________________________________\n",
            "conv3_block3_2_conv (Conv2D)    (None, 28, 28, 128)  147456      conv3_block3_2_pad[0][0]         \n",
            "__________________________________________________________________________________________________\n",
            "conv3_block3_2_bn (BatchNormali (None, 28, 28, 128)  512         conv3_block3_2_conv[0][0]        \n",
            "__________________________________________________________________________________________________\n",
            "conv3_block3_2_relu (Activation (None, 28, 28, 128)  0           conv3_block3_2_bn[0][0]          \n",
            "__________________________________________________________________________________________________\n",
            "conv3_block3_3_conv (Conv2D)    (None, 28, 28, 512)  66048       conv3_block3_2_relu[0][0]        \n",
            "__________________________________________________________________________________________________\n",
            "conv3_block3_out (Add)          (None, 28, 28, 512)  0           conv3_block2_out[0][0]           \n",
            "                                                                 conv3_block3_3_conv[0][0]        \n",
            "__________________________________________________________________________________________________\n",
            "conv3_block4_preact_bn (BatchNo (None, 28, 28, 512)  2048        conv3_block3_out[0][0]           \n",
            "__________________________________________________________________________________________________\n",
            "conv3_block4_preact_relu (Activ (None, 28, 28, 512)  0           conv3_block4_preact_bn[0][0]     \n",
            "__________________________________________________________________________________________________\n",
            "conv3_block4_1_conv (Conv2D)    (None, 28, 28, 128)  65536       conv3_block4_preact_relu[0][0]   \n",
            "__________________________________________________________________________________________________\n",
            "conv3_block4_1_bn (BatchNormali (None, 28, 28, 128)  512         conv3_block4_1_conv[0][0]        \n",
            "__________________________________________________________________________________________________\n",
            "conv3_block4_1_relu (Activation (None, 28, 28, 128)  0           conv3_block4_1_bn[0][0]          \n",
            "__________________________________________________________________________________________________\n",
            "conv3_block4_2_pad (ZeroPadding (None, 30, 30, 128)  0           conv3_block4_1_relu[0][0]        \n",
            "__________________________________________________________________________________________________\n",
            "conv3_block4_2_conv (Conv2D)    (None, 14, 14, 128)  147456      conv3_block4_2_pad[0][0]         \n",
            "__________________________________________________________________________________________________\n",
            "conv3_block4_2_bn (BatchNormali (None, 14, 14, 128)  512         conv3_block4_2_conv[0][0]        \n",
            "__________________________________________________________________________________________________\n",
            "conv3_block4_2_relu (Activation (None, 14, 14, 128)  0           conv3_block4_2_bn[0][0]          \n",
            "__________________________________________________________________________________________________\n",
            "max_pooling2d_1 (MaxPooling2D)  (None, 14, 14, 512)  0           conv3_block3_out[0][0]           \n",
            "__________________________________________________________________________________________________\n",
            "conv3_block4_3_conv (Conv2D)    (None, 14, 14, 512)  66048       conv3_block4_2_relu[0][0]        \n",
            "__________________________________________________________________________________________________\n",
            "conv3_block4_out (Add)          (None, 14, 14, 512)  0           max_pooling2d_1[0][0]            \n",
            "                                                                 conv3_block4_3_conv[0][0]        \n",
            "__________________________________________________________________________________________________\n",
            "conv4_block1_preact_bn (BatchNo (None, 14, 14, 512)  2048        conv3_block4_out[0][0]           \n",
            "__________________________________________________________________________________________________\n",
            "conv4_block1_preact_relu (Activ (None, 14, 14, 512)  0           conv4_block1_preact_bn[0][0]     \n",
            "__________________________________________________________________________________________________\n",
            "conv4_block1_1_conv (Conv2D)    (None, 14, 14, 256)  131072      conv4_block1_preact_relu[0][0]   \n",
            "__________________________________________________________________________________________________\n",
            "conv4_block1_1_bn (BatchNormali (None, 14, 14, 256)  1024        conv4_block1_1_conv[0][0]        \n",
            "__________________________________________________________________________________________________\n",
            "conv4_block1_1_relu (Activation (None, 14, 14, 256)  0           conv4_block1_1_bn[0][0]          \n",
            "__________________________________________________________________________________________________\n",
            "conv4_block1_2_pad (ZeroPadding (None, 16, 16, 256)  0           conv4_block1_1_relu[0][0]        \n",
            "__________________________________________________________________________________________________\n",
            "conv4_block1_2_conv (Conv2D)    (None, 14, 14, 256)  589824      conv4_block1_2_pad[0][0]         \n",
            "__________________________________________________________________________________________________\n",
            "conv4_block1_2_bn (BatchNormali (None, 14, 14, 256)  1024        conv4_block1_2_conv[0][0]        \n",
            "__________________________________________________________________________________________________\n",
            "conv4_block1_2_relu (Activation (None, 14, 14, 256)  0           conv4_block1_2_bn[0][0]          \n",
            "__________________________________________________________________________________________________\n",
            "conv4_block1_0_conv (Conv2D)    (None, 14, 14, 1024) 525312      conv4_block1_preact_relu[0][0]   \n",
            "__________________________________________________________________________________________________\n",
            "conv4_block1_3_conv (Conv2D)    (None, 14, 14, 1024) 263168      conv4_block1_2_relu[0][0]        \n",
            "__________________________________________________________________________________________________\n",
            "conv4_block1_out (Add)          (None, 14, 14, 1024) 0           conv4_block1_0_conv[0][0]        \n",
            "                                                                 conv4_block1_3_conv[0][0]        \n",
            "__________________________________________________________________________________________________\n",
            "conv4_block2_preact_bn (BatchNo (None, 14, 14, 1024) 4096        conv4_block1_out[0][0]           \n",
            "__________________________________________________________________________________________________\n",
            "conv4_block2_preact_relu (Activ (None, 14, 14, 1024) 0           conv4_block2_preact_bn[0][0]     \n",
            "__________________________________________________________________________________________________\n",
            "conv4_block2_1_conv (Conv2D)    (None, 14, 14, 256)  262144      conv4_block2_preact_relu[0][0]   \n",
            "__________________________________________________________________________________________________\n",
            "conv4_block2_1_bn (BatchNormali (None, 14, 14, 256)  1024        conv4_block2_1_conv[0][0]        \n",
            "__________________________________________________________________________________________________\n",
            "conv4_block2_1_relu (Activation (None, 14, 14, 256)  0           conv4_block2_1_bn[0][0]          \n",
            "__________________________________________________________________________________________________\n",
            "conv4_block2_2_pad (ZeroPadding (None, 16, 16, 256)  0           conv4_block2_1_relu[0][0]        \n",
            "__________________________________________________________________________________________________\n",
            "conv4_block2_2_conv (Conv2D)    (None, 14, 14, 256)  589824      conv4_block2_2_pad[0][0]         \n",
            "__________________________________________________________________________________________________\n",
            "conv4_block2_2_bn (BatchNormali (None, 14, 14, 256)  1024        conv4_block2_2_conv[0][0]        \n",
            "__________________________________________________________________________________________________\n",
            "conv4_block2_2_relu (Activation (None, 14, 14, 256)  0           conv4_block2_2_bn[0][0]          \n",
            "__________________________________________________________________________________________________\n",
            "conv4_block2_3_conv (Conv2D)    (None, 14, 14, 1024) 263168      conv4_block2_2_relu[0][0]        \n",
            "__________________________________________________________________________________________________\n",
            "conv4_block2_out (Add)          (None, 14, 14, 1024) 0           conv4_block1_out[0][0]           \n",
            "                                                                 conv4_block2_3_conv[0][0]        \n",
            "__________________________________________________________________________________________________\n",
            "conv4_block3_preact_bn (BatchNo (None, 14, 14, 1024) 4096        conv4_block2_out[0][0]           \n",
            "__________________________________________________________________________________________________\n",
            "conv4_block3_preact_relu (Activ (None, 14, 14, 1024) 0           conv4_block3_preact_bn[0][0]     \n",
            "__________________________________________________________________________________________________\n",
            "conv4_block3_1_conv (Conv2D)    (None, 14, 14, 256)  262144      conv4_block3_preact_relu[0][0]   \n",
            "__________________________________________________________________________________________________\n",
            "conv4_block3_1_bn (BatchNormali (None, 14, 14, 256)  1024        conv4_block3_1_conv[0][0]        \n",
            "__________________________________________________________________________________________________\n",
            "conv4_block3_1_relu (Activation (None, 14, 14, 256)  0           conv4_block3_1_bn[0][0]          \n",
            "__________________________________________________________________________________________________\n",
            "conv4_block3_2_pad (ZeroPadding (None, 16, 16, 256)  0           conv4_block3_1_relu[0][0]        \n",
            "__________________________________________________________________________________________________\n",
            "conv4_block3_2_conv (Conv2D)    (None, 14, 14, 256)  589824      conv4_block3_2_pad[0][0]         \n",
            "__________________________________________________________________________________________________\n",
            "conv4_block3_2_bn (BatchNormali (None, 14, 14, 256)  1024        conv4_block3_2_conv[0][0]        \n",
            "__________________________________________________________________________________________________\n",
            "conv4_block3_2_relu (Activation (None, 14, 14, 256)  0           conv4_block3_2_bn[0][0]          \n",
            "__________________________________________________________________________________________________\n",
            "conv4_block3_3_conv (Conv2D)    (None, 14, 14, 1024) 263168      conv4_block3_2_relu[0][0]        \n",
            "__________________________________________________________________________________________________\n",
            "conv4_block3_out (Add)          (None, 14, 14, 1024) 0           conv4_block2_out[0][0]           \n",
            "                                                                 conv4_block3_3_conv[0][0]        \n",
            "__________________________________________________________________________________________________\n",
            "conv4_block4_preact_bn (BatchNo (None, 14, 14, 1024) 4096        conv4_block3_out[0][0]           \n",
            "__________________________________________________________________________________________________\n",
            "conv4_block4_preact_relu (Activ (None, 14, 14, 1024) 0           conv4_block4_preact_bn[0][0]     \n",
            "__________________________________________________________________________________________________\n",
            "conv4_block4_1_conv (Conv2D)    (None, 14, 14, 256)  262144      conv4_block4_preact_relu[0][0]   \n",
            "__________________________________________________________________________________________________\n",
            "conv4_block4_1_bn (BatchNormali (None, 14, 14, 256)  1024        conv4_block4_1_conv[0][0]        \n",
            "__________________________________________________________________________________________________\n",
            "conv4_block4_1_relu (Activation (None, 14, 14, 256)  0           conv4_block4_1_bn[0][0]          \n",
            "__________________________________________________________________________________________________\n",
            "conv4_block4_2_pad (ZeroPadding (None, 16, 16, 256)  0           conv4_block4_1_relu[0][0]        \n",
            "__________________________________________________________________________________________________\n",
            "conv4_block4_2_conv (Conv2D)    (None, 14, 14, 256)  589824      conv4_block4_2_pad[0][0]         \n",
            "__________________________________________________________________________________________________\n",
            "conv4_block4_2_bn (BatchNormali (None, 14, 14, 256)  1024        conv4_block4_2_conv[0][0]        \n",
            "__________________________________________________________________________________________________\n",
            "conv4_block4_2_relu (Activation (None, 14, 14, 256)  0           conv4_block4_2_bn[0][0]          \n",
            "__________________________________________________________________________________________________\n",
            "conv4_block4_3_conv (Conv2D)    (None, 14, 14, 1024) 263168      conv4_block4_2_relu[0][0]        \n",
            "__________________________________________________________________________________________________\n",
            "conv4_block4_out (Add)          (None, 14, 14, 1024) 0           conv4_block3_out[0][0]           \n",
            "                                                                 conv4_block4_3_conv[0][0]        \n",
            "__________________________________________________________________________________________________\n",
            "conv4_block5_preact_bn (BatchNo (None, 14, 14, 1024) 4096        conv4_block4_out[0][0]           \n",
            "__________________________________________________________________________________________________\n",
            "conv4_block5_preact_relu (Activ (None, 14, 14, 1024) 0           conv4_block5_preact_bn[0][0]     \n",
            "__________________________________________________________________________________________________\n",
            "conv4_block5_1_conv (Conv2D)    (None, 14, 14, 256)  262144      conv4_block5_preact_relu[0][0]   \n",
            "__________________________________________________________________________________________________\n",
            "conv4_block5_1_bn (BatchNormali (None, 14, 14, 256)  1024        conv4_block5_1_conv[0][0]        \n",
            "__________________________________________________________________________________________________\n",
            "conv4_block5_1_relu (Activation (None, 14, 14, 256)  0           conv4_block5_1_bn[0][0]          \n",
            "__________________________________________________________________________________________________\n",
            "conv4_block5_2_pad (ZeroPadding (None, 16, 16, 256)  0           conv4_block5_1_relu[0][0]        \n",
            "__________________________________________________________________________________________________\n",
            "conv4_block5_2_conv (Conv2D)    (None, 14, 14, 256)  589824      conv4_block5_2_pad[0][0]         \n",
            "__________________________________________________________________________________________________\n",
            "conv4_block5_2_bn (BatchNormali (None, 14, 14, 256)  1024        conv4_block5_2_conv[0][0]        \n",
            "__________________________________________________________________________________________________\n",
            "conv4_block5_2_relu (Activation (None, 14, 14, 256)  0           conv4_block5_2_bn[0][0]          \n",
            "__________________________________________________________________________________________________\n",
            "conv4_block5_3_conv (Conv2D)    (None, 14, 14, 1024) 263168      conv4_block5_2_relu[0][0]        \n",
            "__________________________________________________________________________________________________\n",
            "conv4_block5_out (Add)          (None, 14, 14, 1024) 0           conv4_block4_out[0][0]           \n",
            "                                                                 conv4_block5_3_conv[0][0]        \n",
            "__________________________________________________________________________________________________\n",
            "conv4_block6_preact_bn (BatchNo (None, 14, 14, 1024) 4096        conv4_block5_out[0][0]           \n",
            "__________________________________________________________________________________________________\n",
            "conv4_block6_preact_relu (Activ (None, 14, 14, 1024) 0           conv4_block6_preact_bn[0][0]     \n",
            "__________________________________________________________________________________________________\n",
            "conv4_block6_1_conv (Conv2D)    (None, 14, 14, 256)  262144      conv4_block6_preact_relu[0][0]   \n",
            "__________________________________________________________________________________________________\n",
            "conv4_block6_1_bn (BatchNormali (None, 14, 14, 256)  1024        conv4_block6_1_conv[0][0]        \n",
            "__________________________________________________________________________________________________\n",
            "conv4_block6_1_relu (Activation (None, 14, 14, 256)  0           conv4_block6_1_bn[0][0]          \n",
            "__________________________________________________________________________________________________\n",
            "conv4_block6_2_pad (ZeroPadding (None, 16, 16, 256)  0           conv4_block6_1_relu[0][0]        \n",
            "__________________________________________________________________________________________________\n",
            "conv4_block6_2_conv (Conv2D)    (None, 14, 14, 256)  589824      conv4_block6_2_pad[0][0]         \n",
            "__________________________________________________________________________________________________\n",
            "conv4_block6_2_bn (BatchNormali (None, 14, 14, 256)  1024        conv4_block6_2_conv[0][0]        \n",
            "__________________________________________________________________________________________________\n",
            "conv4_block6_2_relu (Activation (None, 14, 14, 256)  0           conv4_block6_2_bn[0][0]          \n",
            "__________________________________________________________________________________________________\n",
            "conv4_block6_3_conv (Conv2D)    (None, 14, 14, 1024) 263168      conv4_block6_2_relu[0][0]        \n",
            "__________________________________________________________________________________________________\n",
            "conv4_block6_out (Add)          (None, 14, 14, 1024) 0           conv4_block5_out[0][0]           \n",
            "                                                                 conv4_block6_3_conv[0][0]        \n",
            "__________________________________________________________________________________________________\n",
            "conv4_block7_preact_bn (BatchNo (None, 14, 14, 1024) 4096        conv4_block6_out[0][0]           \n",
            "__________________________________________________________________________________________________\n",
            "conv4_block7_preact_relu (Activ (None, 14, 14, 1024) 0           conv4_block7_preact_bn[0][0]     \n",
            "__________________________________________________________________________________________________\n",
            "conv4_block7_1_conv (Conv2D)    (None, 14, 14, 256)  262144      conv4_block7_preact_relu[0][0]   \n",
            "__________________________________________________________________________________________________\n",
            "conv4_block7_1_bn (BatchNormali (None, 14, 14, 256)  1024        conv4_block7_1_conv[0][0]        \n",
            "__________________________________________________________________________________________________\n",
            "conv4_block7_1_relu (Activation (None, 14, 14, 256)  0           conv4_block7_1_bn[0][0]          \n",
            "__________________________________________________________________________________________________\n",
            "conv4_block7_2_pad (ZeroPadding (None, 16, 16, 256)  0           conv4_block7_1_relu[0][0]        \n",
            "__________________________________________________________________________________________________\n",
            "conv4_block7_2_conv (Conv2D)    (None, 14, 14, 256)  589824      conv4_block7_2_pad[0][0]         \n",
            "__________________________________________________________________________________________________\n",
            "conv4_block7_2_bn (BatchNormali (None, 14, 14, 256)  1024        conv4_block7_2_conv[0][0]        \n",
            "__________________________________________________________________________________________________\n",
            "conv4_block7_2_relu (Activation (None, 14, 14, 256)  0           conv4_block7_2_bn[0][0]          \n",
            "__________________________________________________________________________________________________\n",
            "conv4_block7_3_conv (Conv2D)    (None, 14, 14, 1024) 263168      conv4_block7_2_relu[0][0]        \n",
            "__________________________________________________________________________________________________\n",
            "conv4_block7_out (Add)          (None, 14, 14, 1024) 0           conv4_block6_out[0][0]           \n",
            "                                                                 conv4_block7_3_conv[0][0]        \n",
            "__________________________________________________________________________________________________\n",
            "conv4_block8_preact_bn (BatchNo (None, 14, 14, 1024) 4096        conv4_block7_out[0][0]           \n",
            "__________________________________________________________________________________________________\n",
            "conv4_block8_preact_relu (Activ (None, 14, 14, 1024) 0           conv4_block8_preact_bn[0][0]     \n",
            "__________________________________________________________________________________________________\n",
            "conv4_block8_1_conv (Conv2D)    (None, 14, 14, 256)  262144      conv4_block8_preact_relu[0][0]   \n",
            "__________________________________________________________________________________________________\n",
            "conv4_block8_1_bn (BatchNormali (None, 14, 14, 256)  1024        conv4_block8_1_conv[0][0]        \n",
            "__________________________________________________________________________________________________\n",
            "conv4_block8_1_relu (Activation (None, 14, 14, 256)  0           conv4_block8_1_bn[0][0]          \n",
            "__________________________________________________________________________________________________\n",
            "conv4_block8_2_pad (ZeroPadding (None, 16, 16, 256)  0           conv4_block8_1_relu[0][0]        \n",
            "__________________________________________________________________________________________________\n",
            "conv4_block8_2_conv (Conv2D)    (None, 14, 14, 256)  589824      conv4_block8_2_pad[0][0]         \n",
            "__________________________________________________________________________________________________\n",
            "conv4_block8_2_bn (BatchNormali (None, 14, 14, 256)  1024        conv4_block8_2_conv[0][0]        \n",
            "__________________________________________________________________________________________________\n",
            "conv4_block8_2_relu (Activation (None, 14, 14, 256)  0           conv4_block8_2_bn[0][0]          \n",
            "__________________________________________________________________________________________________\n",
            "conv4_block8_3_conv (Conv2D)    (None, 14, 14, 1024) 263168      conv4_block8_2_relu[0][0]        \n",
            "__________________________________________________________________________________________________\n",
            "conv4_block8_out (Add)          (None, 14, 14, 1024) 0           conv4_block7_out[0][0]           \n",
            "                                                                 conv4_block8_3_conv[0][0]        \n",
            "__________________________________________________________________________________________________\n",
            "conv4_block9_preact_bn (BatchNo (None, 14, 14, 1024) 4096        conv4_block8_out[0][0]           \n",
            "__________________________________________________________________________________________________\n",
            "conv4_block9_preact_relu (Activ (None, 14, 14, 1024) 0           conv4_block9_preact_bn[0][0]     \n",
            "__________________________________________________________________________________________________\n",
            "conv4_block9_1_conv (Conv2D)    (None, 14, 14, 256)  262144      conv4_block9_preact_relu[0][0]   \n",
            "__________________________________________________________________________________________________\n",
            "conv4_block9_1_bn (BatchNormali (None, 14, 14, 256)  1024        conv4_block9_1_conv[0][0]        \n",
            "__________________________________________________________________________________________________\n",
            "conv4_block9_1_relu (Activation (None, 14, 14, 256)  0           conv4_block9_1_bn[0][0]          \n",
            "__________________________________________________________________________________________________\n",
            "conv4_block9_2_pad (ZeroPadding (None, 16, 16, 256)  0           conv4_block9_1_relu[0][0]        \n",
            "__________________________________________________________________________________________________\n",
            "conv4_block9_2_conv (Conv2D)    (None, 14, 14, 256)  589824      conv4_block9_2_pad[0][0]         \n",
            "__________________________________________________________________________________________________\n",
            "conv4_block9_2_bn (BatchNormali (None, 14, 14, 256)  1024        conv4_block9_2_conv[0][0]        \n",
            "__________________________________________________________________________________________________\n",
            "conv4_block9_2_relu (Activation (None, 14, 14, 256)  0           conv4_block9_2_bn[0][0]          \n",
            "__________________________________________________________________________________________________\n",
            "conv4_block9_3_conv (Conv2D)    (None, 14, 14, 1024) 263168      conv4_block9_2_relu[0][0]        \n",
            "__________________________________________________________________________________________________\n",
            "conv4_block9_out (Add)          (None, 14, 14, 1024) 0           conv4_block8_out[0][0]           \n",
            "                                                                 conv4_block9_3_conv[0][0]        \n",
            "__________________________________________________________________________________________________\n",
            "conv4_block10_preact_bn (BatchN (None, 14, 14, 1024) 4096        conv4_block9_out[0][0]           \n",
            "__________________________________________________________________________________________________\n",
            "conv4_block10_preact_relu (Acti (None, 14, 14, 1024) 0           conv4_block10_preact_bn[0][0]    \n",
            "__________________________________________________________________________________________________\n",
            "conv4_block10_1_conv (Conv2D)   (None, 14, 14, 256)  262144      conv4_block10_preact_relu[0][0]  \n",
            "__________________________________________________________________________________________________\n",
            "conv4_block10_1_bn (BatchNormal (None, 14, 14, 256)  1024        conv4_block10_1_conv[0][0]       \n",
            "__________________________________________________________________________________________________\n",
            "conv4_block10_1_relu (Activatio (None, 14, 14, 256)  0           conv4_block10_1_bn[0][0]         \n",
            "__________________________________________________________________________________________________\n",
            "conv4_block10_2_pad (ZeroPaddin (None, 16, 16, 256)  0           conv4_block10_1_relu[0][0]       \n",
            "__________________________________________________________________________________________________\n",
            "conv4_block10_2_conv (Conv2D)   (None, 14, 14, 256)  589824      conv4_block10_2_pad[0][0]        \n",
            "__________________________________________________________________________________________________\n",
            "conv4_block10_2_bn (BatchNormal (None, 14, 14, 256)  1024        conv4_block10_2_conv[0][0]       \n",
            "__________________________________________________________________________________________________\n",
            "conv4_block10_2_relu (Activatio (None, 14, 14, 256)  0           conv4_block10_2_bn[0][0]         \n",
            "__________________________________________________________________________________________________\n",
            "conv4_block10_3_conv (Conv2D)   (None, 14, 14, 1024) 263168      conv4_block10_2_relu[0][0]       \n",
            "__________________________________________________________________________________________________\n",
            "conv4_block10_out (Add)         (None, 14, 14, 1024) 0           conv4_block9_out[0][0]           \n",
            "                                                                 conv4_block10_3_conv[0][0]       \n",
            "__________________________________________________________________________________________________\n",
            "conv4_block11_preact_bn (BatchN (None, 14, 14, 1024) 4096        conv4_block10_out[0][0]          \n",
            "__________________________________________________________________________________________________\n",
            "conv4_block11_preact_relu (Acti (None, 14, 14, 1024) 0           conv4_block11_preact_bn[0][0]    \n",
            "__________________________________________________________________________________________________\n",
            "conv4_block11_1_conv (Conv2D)   (None, 14, 14, 256)  262144      conv4_block11_preact_relu[0][0]  \n",
            "__________________________________________________________________________________________________\n",
            "conv4_block11_1_bn (BatchNormal (None, 14, 14, 256)  1024        conv4_block11_1_conv[0][0]       \n",
            "__________________________________________________________________________________________________\n",
            "conv4_block11_1_relu (Activatio (None, 14, 14, 256)  0           conv4_block11_1_bn[0][0]         \n",
            "__________________________________________________________________________________________________\n",
            "conv4_block11_2_pad (ZeroPaddin (None, 16, 16, 256)  0           conv4_block11_1_relu[0][0]       \n",
            "__________________________________________________________________________________________________\n",
            "conv4_block11_2_conv (Conv2D)   (None, 14, 14, 256)  589824      conv4_block11_2_pad[0][0]        \n",
            "__________________________________________________________________________________________________\n",
            "conv4_block11_2_bn (BatchNormal (None, 14, 14, 256)  1024        conv4_block11_2_conv[0][0]       \n",
            "__________________________________________________________________________________________________\n",
            "conv4_block11_2_relu (Activatio (None, 14, 14, 256)  0           conv4_block11_2_bn[0][0]         \n",
            "__________________________________________________________________________________________________\n",
            "conv4_block11_3_conv (Conv2D)   (None, 14, 14, 1024) 263168      conv4_block11_2_relu[0][0]       \n",
            "__________________________________________________________________________________________________\n",
            "conv4_block11_out (Add)         (None, 14, 14, 1024) 0           conv4_block10_out[0][0]          \n",
            "                                                                 conv4_block11_3_conv[0][0]       \n",
            "__________________________________________________________________________________________________\n",
            "conv4_block12_preact_bn (BatchN (None, 14, 14, 1024) 4096        conv4_block11_out[0][0]          \n",
            "__________________________________________________________________________________________________\n",
            "conv4_block12_preact_relu (Acti (None, 14, 14, 1024) 0           conv4_block12_preact_bn[0][0]    \n",
            "__________________________________________________________________________________________________\n",
            "conv4_block12_1_conv (Conv2D)   (None, 14, 14, 256)  262144      conv4_block12_preact_relu[0][0]  \n",
            "__________________________________________________________________________________________________\n",
            "conv4_block12_1_bn (BatchNormal (None, 14, 14, 256)  1024        conv4_block12_1_conv[0][0]       \n",
            "__________________________________________________________________________________________________\n",
            "conv4_block12_1_relu (Activatio (None, 14, 14, 256)  0           conv4_block12_1_bn[0][0]         \n",
            "__________________________________________________________________________________________________\n",
            "conv4_block12_2_pad (ZeroPaddin (None, 16, 16, 256)  0           conv4_block12_1_relu[0][0]       \n",
            "__________________________________________________________________________________________________\n",
            "conv4_block12_2_conv (Conv2D)   (None, 14, 14, 256)  589824      conv4_block12_2_pad[0][0]        \n",
            "__________________________________________________________________________________________________\n",
            "conv4_block12_2_bn (BatchNormal (None, 14, 14, 256)  1024        conv4_block12_2_conv[0][0]       \n",
            "__________________________________________________________________________________________________\n",
            "conv4_block12_2_relu (Activatio (None, 14, 14, 256)  0           conv4_block12_2_bn[0][0]         \n",
            "__________________________________________________________________________________________________\n",
            "conv4_block12_3_conv (Conv2D)   (None, 14, 14, 1024) 263168      conv4_block12_2_relu[0][0]       \n",
            "__________________________________________________________________________________________________\n",
            "conv4_block12_out (Add)         (None, 14, 14, 1024) 0           conv4_block11_out[0][0]          \n",
            "                                                                 conv4_block12_3_conv[0][0]       \n",
            "__________________________________________________________________________________________________\n",
            "conv4_block13_preact_bn (BatchN (None, 14, 14, 1024) 4096        conv4_block12_out[0][0]          \n",
            "__________________________________________________________________________________________________\n",
            "conv4_block13_preact_relu (Acti (None, 14, 14, 1024) 0           conv4_block13_preact_bn[0][0]    \n",
            "__________________________________________________________________________________________________\n",
            "conv4_block13_1_conv (Conv2D)   (None, 14, 14, 256)  262144      conv4_block13_preact_relu[0][0]  \n",
            "__________________________________________________________________________________________________\n",
            "conv4_block13_1_bn (BatchNormal (None, 14, 14, 256)  1024        conv4_block13_1_conv[0][0]       \n",
            "__________________________________________________________________________________________________\n",
            "conv4_block13_1_relu (Activatio (None, 14, 14, 256)  0           conv4_block13_1_bn[0][0]         \n",
            "__________________________________________________________________________________________________\n",
            "conv4_block13_2_pad (ZeroPaddin (None, 16, 16, 256)  0           conv4_block13_1_relu[0][0]       \n",
            "__________________________________________________________________________________________________\n",
            "conv4_block13_2_conv (Conv2D)   (None, 14, 14, 256)  589824      conv4_block13_2_pad[0][0]        \n",
            "__________________________________________________________________________________________________\n",
            "conv4_block13_2_bn (BatchNormal (None, 14, 14, 256)  1024        conv4_block13_2_conv[0][0]       \n",
            "__________________________________________________________________________________________________\n",
            "conv4_block13_2_relu (Activatio (None, 14, 14, 256)  0           conv4_block13_2_bn[0][0]         \n",
            "__________________________________________________________________________________________________\n",
            "conv4_block13_3_conv (Conv2D)   (None, 14, 14, 1024) 263168      conv4_block13_2_relu[0][0]       \n",
            "__________________________________________________________________________________________________\n",
            "conv4_block13_out (Add)         (None, 14, 14, 1024) 0           conv4_block12_out[0][0]          \n",
            "                                                                 conv4_block13_3_conv[0][0]       \n",
            "__________________________________________________________________________________________________\n",
            "conv4_block14_preact_bn (BatchN (None, 14, 14, 1024) 4096        conv4_block13_out[0][0]          \n",
            "__________________________________________________________________________________________________\n",
            "conv4_block14_preact_relu (Acti (None, 14, 14, 1024) 0           conv4_block14_preact_bn[0][0]    \n",
            "__________________________________________________________________________________________________\n",
            "conv4_block14_1_conv (Conv2D)   (None, 14, 14, 256)  262144      conv4_block14_preact_relu[0][0]  \n",
            "__________________________________________________________________________________________________\n",
            "conv4_block14_1_bn (BatchNormal (None, 14, 14, 256)  1024        conv4_block14_1_conv[0][0]       \n",
            "__________________________________________________________________________________________________\n",
            "conv4_block14_1_relu (Activatio (None, 14, 14, 256)  0           conv4_block14_1_bn[0][0]         \n",
            "__________________________________________________________________________________________________\n",
            "conv4_block14_2_pad (ZeroPaddin (None, 16, 16, 256)  0           conv4_block14_1_relu[0][0]       \n",
            "__________________________________________________________________________________________________\n",
            "conv4_block14_2_conv (Conv2D)   (None, 14, 14, 256)  589824      conv4_block14_2_pad[0][0]        \n",
            "__________________________________________________________________________________________________\n",
            "conv4_block14_2_bn (BatchNormal (None, 14, 14, 256)  1024        conv4_block14_2_conv[0][0]       \n",
            "__________________________________________________________________________________________________\n",
            "conv4_block14_2_relu (Activatio (None, 14, 14, 256)  0           conv4_block14_2_bn[0][0]         \n",
            "__________________________________________________________________________________________________\n",
            "conv4_block14_3_conv (Conv2D)   (None, 14, 14, 1024) 263168      conv4_block14_2_relu[0][0]       \n",
            "__________________________________________________________________________________________________\n",
            "conv4_block14_out (Add)         (None, 14, 14, 1024) 0           conv4_block13_out[0][0]          \n",
            "                                                                 conv4_block14_3_conv[0][0]       \n",
            "__________________________________________________________________________________________________\n",
            "conv4_block15_preact_bn (BatchN (None, 14, 14, 1024) 4096        conv4_block14_out[0][0]          \n",
            "__________________________________________________________________________________________________\n",
            "conv4_block15_preact_relu (Acti (None, 14, 14, 1024) 0           conv4_block15_preact_bn[0][0]    \n",
            "__________________________________________________________________________________________________\n",
            "conv4_block15_1_conv (Conv2D)   (None, 14, 14, 256)  262144      conv4_block15_preact_relu[0][0]  \n",
            "__________________________________________________________________________________________________\n",
            "conv4_block15_1_bn (BatchNormal (None, 14, 14, 256)  1024        conv4_block15_1_conv[0][0]       \n",
            "__________________________________________________________________________________________________\n",
            "conv4_block15_1_relu (Activatio (None, 14, 14, 256)  0           conv4_block15_1_bn[0][0]         \n",
            "__________________________________________________________________________________________________\n",
            "conv4_block15_2_pad (ZeroPaddin (None, 16, 16, 256)  0           conv4_block15_1_relu[0][0]       \n",
            "__________________________________________________________________________________________________\n",
            "conv4_block15_2_conv (Conv2D)   (None, 14, 14, 256)  589824      conv4_block15_2_pad[0][0]        \n",
            "__________________________________________________________________________________________________\n",
            "conv4_block15_2_bn (BatchNormal (None, 14, 14, 256)  1024        conv4_block15_2_conv[0][0]       \n",
            "__________________________________________________________________________________________________\n",
            "conv4_block15_2_relu (Activatio (None, 14, 14, 256)  0           conv4_block15_2_bn[0][0]         \n",
            "__________________________________________________________________________________________________\n",
            "conv4_block15_3_conv (Conv2D)   (None, 14, 14, 1024) 263168      conv4_block15_2_relu[0][0]       \n",
            "__________________________________________________________________________________________________\n",
            "conv4_block15_out (Add)         (None, 14, 14, 1024) 0           conv4_block14_out[0][0]          \n",
            "                                                                 conv4_block15_3_conv[0][0]       \n",
            "__________________________________________________________________________________________________\n",
            "conv4_block16_preact_bn (BatchN (None, 14, 14, 1024) 4096        conv4_block15_out[0][0]          \n",
            "__________________________________________________________________________________________________\n",
            "conv4_block16_preact_relu (Acti (None, 14, 14, 1024) 0           conv4_block16_preact_bn[0][0]    \n",
            "__________________________________________________________________________________________________\n",
            "conv4_block16_1_conv (Conv2D)   (None, 14, 14, 256)  262144      conv4_block16_preact_relu[0][0]  \n",
            "__________________________________________________________________________________________________\n",
            "conv4_block16_1_bn (BatchNormal (None, 14, 14, 256)  1024        conv4_block16_1_conv[0][0]       \n",
            "__________________________________________________________________________________________________\n",
            "conv4_block16_1_relu (Activatio (None, 14, 14, 256)  0           conv4_block16_1_bn[0][0]         \n",
            "__________________________________________________________________________________________________\n",
            "conv4_block16_2_pad (ZeroPaddin (None, 16, 16, 256)  0           conv4_block16_1_relu[0][0]       \n",
            "__________________________________________________________________________________________________\n",
            "conv4_block16_2_conv (Conv2D)   (None, 14, 14, 256)  589824      conv4_block16_2_pad[0][0]        \n",
            "__________________________________________________________________________________________________\n",
            "conv4_block16_2_bn (BatchNormal (None, 14, 14, 256)  1024        conv4_block16_2_conv[0][0]       \n",
            "__________________________________________________________________________________________________\n",
            "conv4_block16_2_relu (Activatio (None, 14, 14, 256)  0           conv4_block16_2_bn[0][0]         \n",
            "__________________________________________________________________________________________________\n",
            "conv4_block16_3_conv (Conv2D)   (None, 14, 14, 1024) 263168      conv4_block16_2_relu[0][0]       \n",
            "__________________________________________________________________________________________________\n",
            "conv4_block16_out (Add)         (None, 14, 14, 1024) 0           conv4_block15_out[0][0]          \n",
            "                                                                 conv4_block16_3_conv[0][0]       \n",
            "__________________________________________________________________________________________________\n",
            "conv4_block17_preact_bn (BatchN (None, 14, 14, 1024) 4096        conv4_block16_out[0][0]          \n",
            "__________________________________________________________________________________________________\n",
            "conv4_block17_preact_relu (Acti (None, 14, 14, 1024) 0           conv4_block17_preact_bn[0][0]    \n",
            "__________________________________________________________________________________________________\n",
            "conv4_block17_1_conv (Conv2D)   (None, 14, 14, 256)  262144      conv4_block17_preact_relu[0][0]  \n",
            "__________________________________________________________________________________________________\n",
            "conv4_block17_1_bn (BatchNormal (None, 14, 14, 256)  1024        conv4_block17_1_conv[0][0]       \n",
            "__________________________________________________________________________________________________\n",
            "conv4_block17_1_relu (Activatio (None, 14, 14, 256)  0           conv4_block17_1_bn[0][0]         \n",
            "__________________________________________________________________________________________________\n",
            "conv4_block17_2_pad (ZeroPaddin (None, 16, 16, 256)  0           conv4_block17_1_relu[0][0]       \n",
            "__________________________________________________________________________________________________\n",
            "conv4_block17_2_conv (Conv2D)   (None, 14, 14, 256)  589824      conv4_block17_2_pad[0][0]        \n",
            "__________________________________________________________________________________________________\n",
            "conv4_block17_2_bn (BatchNormal (None, 14, 14, 256)  1024        conv4_block17_2_conv[0][0]       \n",
            "__________________________________________________________________________________________________\n",
            "conv4_block17_2_relu (Activatio (None, 14, 14, 256)  0           conv4_block17_2_bn[0][0]         \n",
            "__________________________________________________________________________________________________\n",
            "conv4_block17_3_conv (Conv2D)   (None, 14, 14, 1024) 263168      conv4_block17_2_relu[0][0]       \n",
            "__________________________________________________________________________________________________\n",
            "conv4_block17_out (Add)         (None, 14, 14, 1024) 0           conv4_block16_out[0][0]          \n",
            "                                                                 conv4_block17_3_conv[0][0]       \n",
            "__________________________________________________________________________________________________\n",
            "conv4_block18_preact_bn (BatchN (None, 14, 14, 1024) 4096        conv4_block17_out[0][0]          \n",
            "__________________________________________________________________________________________________\n",
            "conv4_block18_preact_relu (Acti (None, 14, 14, 1024) 0           conv4_block18_preact_bn[0][0]    \n",
            "__________________________________________________________________________________________________\n",
            "conv4_block18_1_conv (Conv2D)   (None, 14, 14, 256)  262144      conv4_block18_preact_relu[0][0]  \n",
            "__________________________________________________________________________________________________\n",
            "conv4_block18_1_bn (BatchNormal (None, 14, 14, 256)  1024        conv4_block18_1_conv[0][0]       \n",
            "__________________________________________________________________________________________________\n",
            "conv4_block18_1_relu (Activatio (None, 14, 14, 256)  0           conv4_block18_1_bn[0][0]         \n",
            "__________________________________________________________________________________________________\n",
            "conv4_block18_2_pad (ZeroPaddin (None, 16, 16, 256)  0           conv4_block18_1_relu[0][0]       \n",
            "__________________________________________________________________________________________________\n",
            "conv4_block18_2_conv (Conv2D)   (None, 14, 14, 256)  589824      conv4_block18_2_pad[0][0]        \n",
            "__________________________________________________________________________________________________\n",
            "conv4_block18_2_bn (BatchNormal (None, 14, 14, 256)  1024        conv4_block18_2_conv[0][0]       \n",
            "__________________________________________________________________________________________________\n",
            "conv4_block18_2_relu (Activatio (None, 14, 14, 256)  0           conv4_block18_2_bn[0][0]         \n",
            "__________________________________________________________________________________________________\n",
            "conv4_block18_3_conv (Conv2D)   (None, 14, 14, 1024) 263168      conv4_block18_2_relu[0][0]       \n",
            "__________________________________________________________________________________________________\n",
            "conv4_block18_out (Add)         (None, 14, 14, 1024) 0           conv4_block17_out[0][0]          \n",
            "                                                                 conv4_block18_3_conv[0][0]       \n",
            "__________________________________________________________________________________________________\n",
            "conv4_block19_preact_bn (BatchN (None, 14, 14, 1024) 4096        conv4_block18_out[0][0]          \n",
            "__________________________________________________________________________________________________\n",
            "conv4_block19_preact_relu (Acti (None, 14, 14, 1024) 0           conv4_block19_preact_bn[0][0]    \n",
            "__________________________________________________________________________________________________\n",
            "conv4_block19_1_conv (Conv2D)   (None, 14, 14, 256)  262144      conv4_block19_preact_relu[0][0]  \n",
            "__________________________________________________________________________________________________\n",
            "conv4_block19_1_bn (BatchNormal (None, 14, 14, 256)  1024        conv4_block19_1_conv[0][0]       \n",
            "__________________________________________________________________________________________________\n",
            "conv4_block19_1_relu (Activatio (None, 14, 14, 256)  0           conv4_block19_1_bn[0][0]         \n",
            "__________________________________________________________________________________________________\n",
            "conv4_block19_2_pad (ZeroPaddin (None, 16, 16, 256)  0           conv4_block19_1_relu[0][0]       \n",
            "__________________________________________________________________________________________________\n",
            "conv4_block19_2_conv (Conv2D)   (None, 14, 14, 256)  589824      conv4_block19_2_pad[0][0]        \n",
            "__________________________________________________________________________________________________\n",
            "conv4_block19_2_bn (BatchNormal (None, 14, 14, 256)  1024        conv4_block19_2_conv[0][0]       \n",
            "__________________________________________________________________________________________________\n",
            "conv4_block19_2_relu (Activatio (None, 14, 14, 256)  0           conv4_block19_2_bn[0][0]         \n",
            "__________________________________________________________________________________________________\n",
            "conv4_block19_3_conv (Conv2D)   (None, 14, 14, 1024) 263168      conv4_block19_2_relu[0][0]       \n",
            "__________________________________________________________________________________________________\n",
            "conv4_block19_out (Add)         (None, 14, 14, 1024) 0           conv4_block18_out[0][0]          \n",
            "                                                                 conv4_block19_3_conv[0][0]       \n",
            "__________________________________________________________________________________________________\n",
            "conv4_block20_preact_bn (BatchN (None, 14, 14, 1024) 4096        conv4_block19_out[0][0]          \n",
            "__________________________________________________________________________________________________\n",
            "conv4_block20_preact_relu (Acti (None, 14, 14, 1024) 0           conv4_block20_preact_bn[0][0]    \n",
            "__________________________________________________________________________________________________\n",
            "conv4_block20_1_conv (Conv2D)   (None, 14, 14, 256)  262144      conv4_block20_preact_relu[0][0]  \n",
            "__________________________________________________________________________________________________\n",
            "conv4_block20_1_bn (BatchNormal (None, 14, 14, 256)  1024        conv4_block20_1_conv[0][0]       \n",
            "__________________________________________________________________________________________________\n",
            "conv4_block20_1_relu (Activatio (None, 14, 14, 256)  0           conv4_block20_1_bn[0][0]         \n",
            "__________________________________________________________________________________________________\n",
            "conv4_block20_2_pad (ZeroPaddin (None, 16, 16, 256)  0           conv4_block20_1_relu[0][0]       \n",
            "__________________________________________________________________________________________________\n",
            "conv4_block20_2_conv (Conv2D)   (None, 14, 14, 256)  589824      conv4_block20_2_pad[0][0]        \n",
            "__________________________________________________________________________________________________\n",
            "conv4_block20_2_bn (BatchNormal (None, 14, 14, 256)  1024        conv4_block20_2_conv[0][0]       \n",
            "__________________________________________________________________________________________________\n",
            "conv4_block20_2_relu (Activatio (None, 14, 14, 256)  0           conv4_block20_2_bn[0][0]         \n",
            "__________________________________________________________________________________________________\n",
            "conv4_block20_3_conv (Conv2D)   (None, 14, 14, 1024) 263168      conv4_block20_2_relu[0][0]       \n",
            "__________________________________________________________________________________________________\n",
            "conv4_block20_out (Add)         (None, 14, 14, 1024) 0           conv4_block19_out[0][0]          \n",
            "                                                                 conv4_block20_3_conv[0][0]       \n",
            "__________________________________________________________________________________________________\n",
            "conv4_block21_preact_bn (BatchN (None, 14, 14, 1024) 4096        conv4_block20_out[0][0]          \n",
            "__________________________________________________________________________________________________\n",
            "conv4_block21_preact_relu (Acti (None, 14, 14, 1024) 0           conv4_block21_preact_bn[0][0]    \n",
            "__________________________________________________________________________________________________\n",
            "conv4_block21_1_conv (Conv2D)   (None, 14, 14, 256)  262144      conv4_block21_preact_relu[0][0]  \n",
            "__________________________________________________________________________________________________\n",
            "conv4_block21_1_bn (BatchNormal (None, 14, 14, 256)  1024        conv4_block21_1_conv[0][0]       \n",
            "__________________________________________________________________________________________________\n",
            "conv4_block21_1_relu (Activatio (None, 14, 14, 256)  0           conv4_block21_1_bn[0][0]         \n",
            "__________________________________________________________________________________________________\n",
            "conv4_block21_2_pad (ZeroPaddin (None, 16, 16, 256)  0           conv4_block21_1_relu[0][0]       \n",
            "__________________________________________________________________________________________________\n",
            "conv4_block21_2_conv (Conv2D)   (None, 14, 14, 256)  589824      conv4_block21_2_pad[0][0]        \n",
            "__________________________________________________________________________________________________\n",
            "conv4_block21_2_bn (BatchNormal (None, 14, 14, 256)  1024        conv4_block21_2_conv[0][0]       \n",
            "__________________________________________________________________________________________________\n",
            "conv4_block21_2_relu (Activatio (None, 14, 14, 256)  0           conv4_block21_2_bn[0][0]         \n",
            "__________________________________________________________________________________________________\n",
            "conv4_block21_3_conv (Conv2D)   (None, 14, 14, 1024) 263168      conv4_block21_2_relu[0][0]       \n",
            "__________________________________________________________________________________________________\n",
            "conv4_block21_out (Add)         (None, 14, 14, 1024) 0           conv4_block20_out[0][0]          \n",
            "                                                                 conv4_block21_3_conv[0][0]       \n",
            "__________________________________________________________________________________________________\n",
            "conv4_block22_preact_bn (BatchN (None, 14, 14, 1024) 4096        conv4_block21_out[0][0]          \n",
            "__________________________________________________________________________________________________\n",
            "conv4_block22_preact_relu (Acti (None, 14, 14, 1024) 0           conv4_block22_preact_bn[0][0]    \n",
            "__________________________________________________________________________________________________\n",
            "conv4_block22_1_conv (Conv2D)   (None, 14, 14, 256)  262144      conv4_block22_preact_relu[0][0]  \n",
            "__________________________________________________________________________________________________\n",
            "conv4_block22_1_bn (BatchNormal (None, 14, 14, 256)  1024        conv4_block22_1_conv[0][0]       \n",
            "__________________________________________________________________________________________________\n",
            "conv4_block22_1_relu (Activatio (None, 14, 14, 256)  0           conv4_block22_1_bn[0][0]         \n",
            "__________________________________________________________________________________________________\n",
            "conv4_block22_2_pad (ZeroPaddin (None, 16, 16, 256)  0           conv4_block22_1_relu[0][0]       \n",
            "__________________________________________________________________________________________________\n",
            "conv4_block22_2_conv (Conv2D)   (None, 14, 14, 256)  589824      conv4_block22_2_pad[0][0]        \n",
            "__________________________________________________________________________________________________\n",
            "conv4_block22_2_bn (BatchNormal (None, 14, 14, 256)  1024        conv4_block22_2_conv[0][0]       \n",
            "__________________________________________________________________________________________________\n",
            "conv4_block22_2_relu (Activatio (None, 14, 14, 256)  0           conv4_block22_2_bn[0][0]         \n",
            "__________________________________________________________________________________________________\n",
            "conv4_block22_3_conv (Conv2D)   (None, 14, 14, 1024) 263168      conv4_block22_2_relu[0][0]       \n",
            "__________________________________________________________________________________________________\n",
            "conv4_block22_out (Add)         (None, 14, 14, 1024) 0           conv4_block21_out[0][0]          \n",
            "                                                                 conv4_block22_3_conv[0][0]       \n",
            "__________________________________________________________________________________________________\n",
            "conv4_block23_preact_bn (BatchN (None, 14, 14, 1024) 4096        conv4_block22_out[0][0]          \n",
            "__________________________________________________________________________________________________\n",
            "conv4_block23_preact_relu (Acti (None, 14, 14, 1024) 0           conv4_block23_preact_bn[0][0]    \n",
            "__________________________________________________________________________________________________\n",
            "conv4_block23_1_conv (Conv2D)   (None, 14, 14, 256)  262144      conv4_block23_preact_relu[0][0]  \n",
            "__________________________________________________________________________________________________\n",
            "conv4_block23_1_bn (BatchNormal (None, 14, 14, 256)  1024        conv4_block23_1_conv[0][0]       \n",
            "__________________________________________________________________________________________________\n",
            "conv4_block23_1_relu (Activatio (None, 14, 14, 256)  0           conv4_block23_1_bn[0][0]         \n",
            "__________________________________________________________________________________________________\n",
            "conv4_block23_2_pad (ZeroPaddin (None, 16, 16, 256)  0           conv4_block23_1_relu[0][0]       \n",
            "__________________________________________________________________________________________________\n",
            "conv4_block23_2_conv (Conv2D)   (None, 7, 7, 256)    589824      conv4_block23_2_pad[0][0]        \n",
            "__________________________________________________________________________________________________\n",
            "conv4_block23_2_bn (BatchNormal (None, 7, 7, 256)    1024        conv4_block23_2_conv[0][0]       \n",
            "__________________________________________________________________________________________________\n",
            "conv4_block23_2_relu (Activatio (None, 7, 7, 256)    0           conv4_block23_2_bn[0][0]         \n",
            "__________________________________________________________________________________________________\n",
            "max_pooling2d_2 (MaxPooling2D)  (None, 7, 7, 1024)   0           conv4_block22_out[0][0]          \n",
            "__________________________________________________________________________________________________\n",
            "conv4_block23_3_conv (Conv2D)   (None, 7, 7, 1024)   263168      conv4_block23_2_relu[0][0]       \n",
            "__________________________________________________________________________________________________\n",
            "conv4_block23_out (Add)         (None, 7, 7, 1024)   0           max_pooling2d_2[0][0]            \n",
            "                                                                 conv4_block23_3_conv[0][0]       \n",
            "__________________________________________________________________________________________________\n",
            "conv5_block1_preact_bn (BatchNo (None, 7, 7, 1024)   4096        conv4_block23_out[0][0]          \n",
            "__________________________________________________________________________________________________\n",
            "conv5_block1_preact_relu (Activ (None, 7, 7, 1024)   0           conv5_block1_preact_bn[0][0]     \n",
            "__________________________________________________________________________________________________\n",
            "conv5_block1_1_conv (Conv2D)    (None, 7, 7, 512)    524288      conv5_block1_preact_relu[0][0]   \n",
            "__________________________________________________________________________________________________\n",
            "conv5_block1_1_bn (BatchNormali (None, 7, 7, 512)    2048        conv5_block1_1_conv[0][0]        \n",
            "__________________________________________________________________________________________________\n",
            "conv5_block1_1_relu (Activation (None, 7, 7, 512)    0           conv5_block1_1_bn[0][0]          \n",
            "__________________________________________________________________________________________________\n",
            "conv5_block1_2_pad (ZeroPadding (None, 9, 9, 512)    0           conv5_block1_1_relu[0][0]        \n",
            "__________________________________________________________________________________________________\n",
            "conv5_block1_2_conv (Conv2D)    (None, 7, 7, 512)    2359296     conv5_block1_2_pad[0][0]         \n",
            "__________________________________________________________________________________________________\n",
            "conv5_block1_2_bn (BatchNormali (None, 7, 7, 512)    2048        conv5_block1_2_conv[0][0]        \n",
            "__________________________________________________________________________________________________\n",
            "conv5_block1_2_relu (Activation (None, 7, 7, 512)    0           conv5_block1_2_bn[0][0]          \n",
            "__________________________________________________________________________________________________\n",
            "conv5_block1_0_conv (Conv2D)    (None, 7, 7, 2048)   2099200     conv5_block1_preact_relu[0][0]   \n",
            "__________________________________________________________________________________________________\n",
            "conv5_block1_3_conv (Conv2D)    (None, 7, 7, 2048)   1050624     conv5_block1_2_relu[0][0]        \n",
            "__________________________________________________________________________________________________\n",
            "conv5_block1_out (Add)          (None, 7, 7, 2048)   0           conv5_block1_0_conv[0][0]        \n",
            "                                                                 conv5_block1_3_conv[0][0]        \n",
            "__________________________________________________________________________________________________\n",
            "conv5_block2_preact_bn (BatchNo (None, 7, 7, 2048)   8192        conv5_block1_out[0][0]           \n",
            "__________________________________________________________________________________________________\n",
            "conv5_block2_preact_relu (Activ (None, 7, 7, 2048)   0           conv5_block2_preact_bn[0][0]     \n",
            "__________________________________________________________________________________________________\n",
            "conv5_block2_1_conv (Conv2D)    (None, 7, 7, 512)    1048576     conv5_block2_preact_relu[0][0]   \n",
            "__________________________________________________________________________________________________\n",
            "conv5_block2_1_bn (BatchNormali (None, 7, 7, 512)    2048        conv5_block2_1_conv[0][0]        \n",
            "__________________________________________________________________________________________________\n",
            "conv5_block2_1_relu (Activation (None, 7, 7, 512)    0           conv5_block2_1_bn[0][0]          \n",
            "__________________________________________________________________________________________________\n",
            "conv5_block2_2_pad (ZeroPadding (None, 9, 9, 512)    0           conv5_block2_1_relu[0][0]        \n",
            "__________________________________________________________________________________________________\n",
            "conv5_block2_2_conv (Conv2D)    (None, 7, 7, 512)    2359296     conv5_block2_2_pad[0][0]         \n",
            "__________________________________________________________________________________________________\n",
            "conv5_block2_2_bn (BatchNormali (None, 7, 7, 512)    2048        conv5_block2_2_conv[0][0]        \n",
            "__________________________________________________________________________________________________\n",
            "conv5_block2_2_relu (Activation (None, 7, 7, 512)    0           conv5_block2_2_bn[0][0]          \n",
            "__________________________________________________________________________________________________\n",
            "conv5_block2_3_conv (Conv2D)    (None, 7, 7, 2048)   1050624     conv5_block2_2_relu[0][0]        \n",
            "__________________________________________________________________________________________________\n",
            "conv5_block2_out (Add)          (None, 7, 7, 2048)   0           conv5_block1_out[0][0]           \n",
            "                                                                 conv5_block2_3_conv[0][0]        \n",
            "__________________________________________________________________________________________________\n",
            "conv5_block3_preact_bn (BatchNo (None, 7, 7, 2048)   8192        conv5_block2_out[0][0]           \n",
            "__________________________________________________________________________________________________\n",
            "conv5_block3_preact_relu (Activ (None, 7, 7, 2048)   0           conv5_block3_preact_bn[0][0]     \n",
            "__________________________________________________________________________________________________\n",
            "conv5_block3_1_conv (Conv2D)    (None, 7, 7, 512)    1048576     conv5_block3_preact_relu[0][0]   \n",
            "__________________________________________________________________________________________________\n",
            "conv5_block3_1_bn (BatchNormali (None, 7, 7, 512)    2048        conv5_block3_1_conv[0][0]        \n",
            "__________________________________________________________________________________________________\n",
            "conv5_block3_1_relu (Activation (None, 7, 7, 512)    0           conv5_block3_1_bn[0][0]          \n",
            "__________________________________________________________________________________________________\n",
            "conv5_block3_2_pad (ZeroPadding (None, 9, 9, 512)    0           conv5_block3_1_relu[0][0]        \n",
            "__________________________________________________________________________________________________\n",
            "conv5_block3_2_conv (Conv2D)    (None, 7, 7, 512)    2359296     conv5_block3_2_pad[0][0]         \n",
            "__________________________________________________________________________________________________\n",
            "conv5_block3_2_bn (BatchNormali (None, 7, 7, 512)    2048        conv5_block3_2_conv[0][0]        \n",
            "__________________________________________________________________________________________________\n",
            "conv5_block3_2_relu (Activation (None, 7, 7, 512)    0           conv5_block3_2_bn[0][0]          \n",
            "__________________________________________________________________________________________________\n",
            "conv5_block3_3_conv (Conv2D)    (None, 7, 7, 2048)   1050624     conv5_block3_2_relu[0][0]        \n",
            "__________________________________________________________________________________________________\n",
            "conv5_block3_out (Add)          (None, 7, 7, 2048)   0           conv5_block2_out[0][0]           \n",
            "                                                                 conv5_block3_3_conv[0][0]        \n",
            "__________________________________________________________________________________________________\n",
            "post_bn (BatchNormalization)    (None, 7, 7, 2048)   8192        conv5_block3_out[0][0]           \n",
            "__________________________________________________________________________________________________\n",
            "post_relu (Activation)          (None, 7, 7, 2048)   0           post_bn[0][0]                    \n",
            "__________________________________________________________________________________________________\n",
            "avg_pool (GlobalAveragePooling2 (None, 2048)         0           post_relu[0][0]                  \n",
            "__________________________________________________________________________________________________\n",
            "predictions (Dense)             (None, 1000)         2049000     avg_pool[0][0]                   \n",
            "==================================================================================================\n",
            "Total params: 44,675,560\n",
            "Trainable params: 44,577,896\n",
            "Non-trainable params: 97,664\n",
            "__________________________________________________________________________________________________\n"
          ]
        }
      ],
      "source": [
        "image_model.summary()"
      ]
    },
    {
      "cell_type": "code",
      "execution_count": null,
      "metadata": {
        "colab": {
          "base_uri": "https://localhost:8080/"
        },
        "id": "2-iPePNGWYfY",
        "outputId": "c1d24af6-fbb8-44ad-98f1-15f8ddfcb9e9"
      },
      "outputs": [
        {
          "data": {
            "text/plain": [
              "[]"
            ]
          },
          "execution_count": 19,
          "metadata": {},
          "output_type": "execute_result"
        }
      ],
      "source": [
        "\n",
        "input_shape = image_model.layers[0].output_shape[1:3]\n",
        "input_shape"
      ]
    },
    {
      "cell_type": "markdown",
      "metadata": {
        "id": "SfQuSv88ExP9"
      },
      "source": [
        "**RESNET101 model flowchart**"
      ]
    },
    {
      "cell_type": "code",
      "execution_count": null,
      "metadata": {
        "colab": {
          "base_uri": "https://localhost:8080/"
        },
        "id": "5hFqBL2DYNfb",
        "outputId": "479e86f5-d400-4f05-9c53-de4b1c8c15f8"
      },
      "outputs": [
        {
          "name": "stdout",
          "output_type": "stream",
          "text": [
            "The input of the RESNET101 net have dimensions: (224, 224)\n",
            "The output of the selecter layer of RESNET101 net have dimensions:  2048\n"
          ]
        }
      ],
      "source": [
        "# We will use the output of the layer prior to the final\n",
        "# classification-layer which is named probs. This is a fully-connected (or dense) layer.\n",
        "transfer_layer = image_model.get_layer('avg_pool')\n",
        "\n",
        "image_model_transfer = Model(inputs=image_model.input,\n",
        "                             outputs=transfer_layer.output)\n",
        "\n",
        "transfer_values_size = K.int_shape(transfer_layer.output)[1]\n",
        "\n",
        "\n",
        "print(\"The input of the RESNET101 net have dimensions:\",K.int_shape(image_model.input)[1:3])\n",
        "\n",
        "print(\"The output of the selecter layer of RESNET101 net have dimensions: \", transfer_values_size)"
      ]
    },
    {
      "cell_type": "markdown",
      "metadata": {
        "id": "B7AqrwRdKtGO"
      },
      "source": [
        "**Function to process 20 video frames through RESNET101 and get transfer value**"
      ]
    },
    {
      "cell_type": "code",
      "execution_count": null,
      "metadata": {
        "id": "qVUAmKDiYNsA"
      },
      "outputs": [],
      "source": [
        "def get_transfer_values(current_dir, file_name):\n",
        "    \n",
        "    # Pre-allocate input-batch-array for images.\n",
        "    shape = (40,) + img_size_touple + (3,)\n",
        "    \n",
        "    image_batch = np.zeros(shape=shape, dtype=np.float16)\n",
        "    \n",
        "    image_batch = get_frames(current_dir, file_name)\n",
        "      \n",
        "    # Pre-allocate output-array for transfer-values.\n",
        "    # Note that we use 16-bit floating-points to save memory.\n",
        "    shape = (40, transfer_values_size)\n",
        "    transfer_values = np.zeros(shape=shape, dtype=np.float16)\n",
        "\n",
        "    transfer_values = \\\n",
        "            image_model_transfer.predict(image_batch)\n",
        "            \n",
        "    return transfer_values"
      ]
    },
    {
      "cell_type": "markdown",
      "metadata": {
        "id": "C2L4Ck2vMQi3"
      },
      "source": [
        "\n",
        "**Generator that process one video through RESNET101 each function call**"
      ]
    },
    {
      "cell_type": "markdown",
      "metadata": {
        "id": "8md91AXNRT_M"
      },
      "source": [
        "USED in make_files and make_files_test"
      ]
    },
    {
      "cell_type": "code",
      "execution_count": null,
      "metadata": {
        "id": "ioV30SQoYN0S"
      },
      "outputs": [],
      "source": [
        "def proces_transfer(vid_names, in_dir, labels):\n",
        "    \n",
        "    count = 0\n",
        "    \n",
        "    tam = len(vid_names)\n",
        "    \n",
        "    # Pre-allocate input-batch-array for images.\n",
        "    shape = (40,) + img_size_touple + (3,)\n",
        "    \n",
        "    while count<tam:\n",
        "        \n",
        "        video_name = vid_names[count]\n",
        "        \n",
        "        image_batch = np.zeros(shape=shape, dtype=np.float16)\n",
        "    \n",
        "        image_batch = get_frames(in_dir, video_name)\n",
        "        \n",
        "         # Note that we use 16-bit floating-points to save memory.\n",
        "        shape = (40, transfer_values_size)\n",
        "        transfer_values = np.zeros(shape=shape, dtype=np.float16)\n",
        "        \n",
        "        transfer_values = \\\n",
        "            image_model_transfer.predict(image_batch)\n",
        "         \n",
        "        labels1 = labels[count]\n",
        "        \n",
        "        aux = np.ones([40,2])\n",
        "        \n",
        "        labelss = labels1*aux\n",
        "        \n",
        "        yield transfer_values, labelss\n",
        "        \n",
        "        count+=1"
      ]
    },
    {
      "cell_type": "markdown",
      "metadata": {
        "id": "DveptGDwyOzC"
      },
      "source": [
        "**Functions to save transfer values from RESNET101 to later use**"
      ]
    },
    {
      "cell_type": "code",
      "execution_count": null,
      "metadata": {
        "id": "WqlD_F62YNyx"
      },
      "outputs": [],
      "source": [
        "def make_files(n_files):\n",
        "    \n",
        "    gen = proces_transfer(names_training, in_dir, labels_training)\n",
        "\n",
        "    numer = 1\n",
        "\n",
        "    # Read the first chunk to get the column dtypes\n",
        "    chunk = next(gen)\n",
        "\n",
        "    row_count = chunk[0].shape[0]\n",
        "    row_count2 = chunk[1].shape[0]\n",
        "    \n",
        "    with h5py.File('prueba.h5', 'w') as f:\n",
        "    \n",
        "        # Initialize a resizable dataset to hold the output\n",
        "        maxshape = (None,) + chunk[0].shape[1:]\n",
        "        maxshape2 = (None,) + chunk[1].shape[1:]\n",
        "    \n",
        "    \n",
        "        dset = f.create_dataset('data', shape=chunk[0].shape, maxshape=maxshape,\n",
        "                                chunks=chunk[0].shape, dtype=chunk[0].dtype)\n",
        "    \n",
        "        dset2 = f.create_dataset('labels', shape=chunk[1].shape, maxshape=maxshape2,\n",
        "                                 chunks=chunk[1].shape, dtype=chunk[1].dtype)\n",
        "    \n",
        "         # Write the first chunk of rows\n",
        "        dset[:] = chunk[0]\n",
        "        dset2[:] = chunk[1]\n",
        "\n",
        "        for chunk in gen:\n",
        "            \n",
        "            if numer == n_files:\n",
        "            \n",
        "                break\n",
        "\n",
        "            # Resize the dataset to accommodate the next chunk of rows\n",
        "            dset.resize(row_count + chunk[0].shape[0], axis=0)\n",
        "            dset2.resize(row_count2 + chunk[1].shape[0], axis=0)\n",
        "\n",
        "             # Write the next chunk\n",
        "            dset[row_count:] = chunk[0]\n",
        "            dset2[row_count:] = chunk[1]\n",
        "\n",
        "            # Increment the row count\n",
        "            row_count += chunk[0].shape[0]\n",
        "            row_count2 += chunk[1].shape[0]\n",
        "            \n",
        "            print_progress(numer, n_files)\n",
        "        \n",
        "            numer += 1"
      ]
    },
    {
      "cell_type": "code",
      "execution_count": null,
      "metadata": {
        "id": "5pydsI2KY_iz"
      },
      "outputs": [],
      "source": [
        "def make_files_test(n_files):\n",
        "    \n",
        "    gen = proces_transfer(names_test, in_dir_2, labels_test)\n",
        "\n",
        "    numer = 1\n",
        "\n",
        "    # Read the first chunk to get the column dtypes\n",
        "    chunk = next(gen)\n",
        "\n",
        "    row_count = chunk[0].shape[0]\n",
        "    row_count2 = chunk[1].shape[0]\n",
        "    \n",
        "    with h5py.File('pruebavalidation.h5', 'w') as f:\n",
        "    \n",
        "        # Initialize a resizable dataset to hold the output\n",
        "        maxshape = (None,) + chunk[0].shape[1:]\n",
        "        maxshape2 = (None,) + chunk[1].shape[1:]\n",
        "    \n",
        "    \n",
        "        dset = f.create_dataset('data', shape=chunk[0].shape, maxshape=maxshape,\n",
        "                                chunks=chunk[0].shape, dtype=chunk[0].dtype)\n",
        "    \n",
        "        dset2 = f.create_dataset('labels', shape=chunk[1].shape, maxshape=maxshape2,\n",
        "                                 chunks=chunk[1].shape, dtype=chunk[1].dtype)\n",
        "    \n",
        "         # Write the first chunk of rows\n",
        "        dset[:] = chunk[0]\n",
        "        dset2[:] = chunk[1]\n",
        "\n",
        "        for chunk in gen:\n",
        "            \n",
        "            if numer == n_files:\n",
        "            \n",
        "                break\n",
        "\n",
        "            # Resize the dataset to accommodate the next chunk of rows\n",
        "            dset.resize(row_count + chunk[0].shape[0], axis=0)\n",
        "            dset2.resize(row_count2 + chunk[1].shape[0], axis=0)\n",
        "\n",
        "            # Write the next chunk\n",
        "            dset[row_count:] = chunk[0]\n",
        "            dset2[row_count:] = chunk[1]\n",
        "\n",
        "            # Increment the row count\n",
        "            row_count += chunk[0].shape[0]\n",
        "            row_count2 += chunk[1].shape[0]\n",
        "            \n",
        "            print_progress(numer, n_files)\n",
        "        \n",
        "            numer += 1"
      ]
    },
    {
      "cell_type": "markdown",
      "metadata": {
        "id": "qDpx6JmuPSSf"
      },
      "source": [
        "**Split the dataset into training set and test set**"
      ]
    },
    {
      "cell_type": "markdown",
      "metadata": {
        "id": "KB5xrkBoRE5u"
      },
      "source": [
        "The training set is used to train the model and the test set to check the model accuracy."
      ]
    },
    {
      "cell_type": "code",
      "execution_count": null,
      "metadata": {
        "colab": {
          "base_uri": "https://localhost:8080/"
        },
        "id": "gCJaQDq1sJ59",
        "outputId": "ecaff47c-b2aa-4bd8-bcc3-5a1249fe27b8"
      },
      "outputs": [
        {
          "name": "stdout",
          "output_type": "stream",
          "text": [
            "/content/drive/My Drive/Colab Notebooks/TESTING_DATASET_VIOLENCE\n",
            "Done!\n"
          ]
        }
      ],
      "source": [
        "in_dir_2 = '/content/drive/My Drive/Colab Notebooks/TESTING_DATASET_VIOLENCE'\n",
        "print(in_dir_2)\n",
        "names2, labels2 = label_video_names(in_dir_2)\n",
        "#names2 = video_names(in_dir_2)\n",
        "print (\"Done!\")"
      ]
    },
    {
      "cell_type": "code",
      "execution_count": null,
      "metadata": {
        "id": "0JQ6nGVsCbep"
      },
      "outputs": [],
      "source": [
        "training_set = int(len(names))\n",
        "test_set = int(len(names2))\n",
        "\n",
        "names_training = names[0:training_set]\n",
        "names_test = names2[0:test_set]\n",
        "\n",
        "labels_training = labels[0:training_set]\n",
        "labels_test = labels2[0:test_set]"
      ]
    },
    {
      "cell_type": "markdown",
      "metadata": {
        "id": "4hVXSs5R1Zen"
      },
      "source": [
        "**Processing all video frames through RESNET101 and saving the transfer values in disk**"
      ]
    },
    {
      "cell_type": "code",
      "execution_count": null,
      "metadata": {
        "colab": {
          "base_uri": "https://localhost:8080/"
        },
        "id": "pvfSGuqeY_xh",
        "outputId": "42c0216b-4da5-4379-cf00-a3bc4b27a1b1"
      },
      "outputs": [
        {
          "name": "stdout",
          "output_type": "stream",
          "text": [
            "- Progress: 100.0%Time TV:  3643.421039964\n"
          ]
        }
      ],
      "source": [
        "start_TV = timeit.default_timer()\n",
        "\n",
        "make_files(training_set)\n",
        "\n",
        "stop_TV = timeit.default_timer()\n",
        "\n",
        "print('Time TV: ', stop_TV - start_TV)  "
      ]
    },
    {
      "cell_type": "code",
      "execution_count": null,
      "metadata": {
        "colab": {
          "base_uri": "https://localhost:8080/"
        },
        "id": "9ry7MecRY_wd",
        "outputId": "52b0735d-1801-4b8a-b9ac-99caa1d93fc7"
      },
      "outputs": [
        {
          "name": "stdout",
          "output_type": "stream",
          "text": [
            "- Progress: 99.3%"
          ]
        }
      ],
      "source": [
        "make_files_test(test_set)"
      ]
    },
    {
      "cell_type": "markdown",
      "metadata": {
        "id": "t_8iHSEh1Gd8"
      },
      "source": [
        "**Load the cached transfer values into memory**"
      ]
    },
    {
      "cell_type": "markdown",
      "metadata": {
        "id": "h7dfCZXr1GGV"
      },
      "source": [
        "Saved all the videos transfer values into disk. But we have to load those transfer values into memory in order to train the LSTM net.Training the LSTM in different ways in order to see which way gets the best accuracy, if you didn't save the transfer values into disk you would have to process the whole videos each training. It's very time consuming processing the videos through ResNet101.\n",
        "\n",
        "In order to load the saved transfer values into RAM memory we are going to use this two functions:"
      ]
    },
    {
      "cell_type": "code",
      "execution_count": null,
      "metadata": {
        "id": "Wn8szJJwZuVU"
      },
      "outputs": [],
      "source": [
        "\n",
        "def process_alldata_training():\n",
        "    \n",
        "    joint_transfer=[]\n",
        "    frames_num=40\n",
        "    count = 0\n",
        "    \n",
        "    with h5py.File('prueba.h5', 'r') as f:\n",
        "            \n",
        "        X_batch = f['data'][:]\n",
        "        y_batch = f['labels'][:]\n",
        "\n",
        "    for i in range(int(len(X_batch)/frames_num)):\n",
        "        inc = count+frames_num\n",
        "        joint_transfer.append([X_batch[count:inc],y_batch[count]])\n",
        "        count =inc\n",
        "        \n",
        "    data =[]\n",
        "    target=[]\n",
        "    \n",
        "    for i in joint_transfer:\n",
        "        data.append(i[0])\n",
        "        target.append(np.array(i[1]))\n",
        "        \n",
        "    return data, target"
      ]
    },
    {
      "cell_type": "code",
      "execution_count": null,
      "metadata": {
        "id": "pwx-uY2_Zubm"
      },
      "outputs": [],
      "source": [
        "\n",
        "def process_alldata_test():\n",
        "    \n",
        "    joint_transfer=[]\n",
        "    frames_num=40\n",
        "    count = 0\n",
        "    \n",
        "    with h5py.File('pruebavalidation.h5', 'r') as f:\n",
        "            \n",
        "        X_batch = f['data'][:]\n",
        "        y_batch = f['labels'][:]\n",
        "\n",
        "    for i in range(int(len(X_batch)/frames_num)):\n",
        "        inc = count+frames_num\n",
        "        joint_transfer.append([X_batch[count:inc],y_batch[count]])\n",
        "        count =inc\n",
        "        \n",
        "    data =[]\n",
        "    target=[]\n",
        "    \n",
        "    for i in joint_transfer:\n",
        "        data.append(i[0])\n",
        "        target.append(np.array(i[1]))\n",
        "        \n",
        "    return data, target"
      ]
    },
    {
      "cell_type": "code",
      "execution_count": null,
      "metadata": {
        "id": "1LPvcxOwZuaH"
      },
      "outputs": [],
      "source": [
        "data, target = process_alldata_training()\n"
      ]
    },
    {
      "cell_type": "code",
      "execution_count": null,
      "metadata": {
        "id": "IqnSNC56ZuTZ"
      },
      "outputs": [],
      "source": [
        "data_test, target_test = process_alldata_test()"
      ]
    },
    {
      "cell_type": "code",
      "execution_count": null,
      "metadata": {
        "id": "X7ln66gy6JlC"
      },
      "outputs": [],
      "source": [
        "chunk_size = 2048\n",
        "n_chunks = 40\n",
        "rnn_size = 512"
      ]
    },
    {
      "cell_type": "code",
      "execution_count": null,
      "metadata": {
        "id": "B7n49JfT4Qyz"
      },
      "outputs": [],
      "source": [
        "data = np.array(data)\n",
        "data_test = np.array(data_test)\n",
        "target = np.array(target)\n",
        "target_test = np.array(target_test)"
      ]
    },
    {
      "cell_type": "code",
      "execution_count": null,
      "metadata": {
        "id": "df5A8_ePxHlk"
      },
      "outputs": [],
      "source": [
        "data = data.reshape(data.shape[0], n_chunks * chunk_size)\n",
        "data_test = data_test.reshape(data_test.shape[0], n_chunks * chunk_size)"
      ]
    },
    {
      "cell_type": "code",
      "execution_count": null,
      "metadata": {
        "colab": {
          "base_uri": "https://localhost:8080/"
        },
        "id": "kON5W3OjmvFU",
        "outputId": "51313717-fae6-43d9-9ce1-9ea364c71234"
      },
      "outputs": [
        {
          "name": "stdout",
          "output_type": "stream",
          "text": [
            "Model: \"sequential_9\"\n",
            "_________________________________________________________________\n",
            "Layer (type)                 Output Shape              Param #   \n",
            "=================================================================\n",
            "dense_18 (Dense)             (None, 512)               41943552  \n",
            "_________________________________________________________________\n",
            "activation_18 (Activation)   (None, 512)               0         \n",
            "_________________________________________________________________\n",
            "dropout_1 (Dropout)          (None, 512)               0         \n",
            "_________________________________________________________________\n",
            "dense_19 (Dense)             (None, 2)                 1026      \n",
            "_________________________________________________________________\n",
            "activation_19 (Activation)   (None, 2)                 0         \n",
            "=================================================================\n",
            "Total params: 41,944,578\n",
            "Trainable params: 41,944,578\n",
            "Non-trainable params: 0\n",
            "_________________________________________________________________\n"
          ]
        }
      ],
      "source": [
        "\n",
        "\n",
        "model = Sequential()\n",
        "model.add(Dense(512, input_shape=(n_chunks * chunk_size,)))\n",
        "model.add(Activation('relu'))\n",
        "model.add(Dropout(0.5))\n",
        "model.add(Dense(2))\n",
        "model.add(Activation('softmax'))\n",
        "model.compile(loss='mean_squared_error', optimizer='adam' ,metrics=['accuracy'])\n",
        "\n",
        "model.summary()\n",
        "\n"
      ]
    },
    {
      "cell_type": "code",
      "execution_count": null,
      "metadata": {
        "colab": {
          "base_uri": "https://localhost:8080/"
        },
        "id": "pcz2uiulZ_hZ",
        "outputId": "a391698a-6f03-443f-e00c-a96e5c0c747a"
      },
      "outputs": [
        {
          "name": "stdout",
          "output_type": "stream",
          "text": [
            "Epoch 1/100\n",
            "7/7 - 1s - loss: 0.4658 - accuracy: 0.5101 - val_loss: 0.3759 - val_accuracy: 0.6200\n",
            "Epoch 2/100\n",
            "7/7 - 1s - loss: 0.2431 - accuracy: 0.7554 - val_loss: 0.1800 - val_accuracy: 0.8200\n",
            "Epoch 3/100\n",
            "7/7 - 1s - loss: 0.1952 - accuracy: 0.8041 - val_loss: 0.1800 - val_accuracy: 0.8200\n",
            "Epoch 4/100\n",
            "7/7 - 1s - loss: 0.1903 - accuracy: 0.8090 - val_loss: 0.1800 - val_accuracy: 0.8200\n",
            "Epoch 5/100\n",
            "7/7 - 1s - loss: 0.1878 - accuracy: 0.8110 - val_loss: 0.1800 - val_accuracy: 0.8200\n",
            "Epoch 6/100\n",
            "7/7 - 1s - loss: 0.2167 - accuracy: 0.7823 - val_loss: 0.1800 - val_accuracy: 0.8200\n",
            "Epoch 7/100\n",
            "7/7 - 1s - loss: 0.2223 - accuracy: 0.7774 - val_loss: 0.1800 - val_accuracy: 0.8200\n",
            "Epoch 8/100\n",
            "7/7 - 1s - loss: 0.1795 - accuracy: 0.8203 - val_loss: 0.1600 - val_accuracy: 0.8400\n",
            "Epoch 9/100\n",
            "7/7 - 1s - loss: 0.1831 - accuracy: 0.8168 - val_loss: 0.1600 - val_accuracy: 0.8400\n",
            "Epoch 10/100\n",
            "7/7 - 1s - loss: 0.1719 - accuracy: 0.8275 - val_loss: 0.1600 - val_accuracy: 0.8400\n",
            "Epoch 11/100\n",
            "7/7 - 1s - loss: 0.2455 - accuracy: 0.7539 - val_loss: 0.2751 - val_accuracy: 0.7200\n",
            "Epoch 12/100\n",
            "7/7 - 1s - loss: 0.2335 - accuracy: 0.7661 - val_loss: 0.1600 - val_accuracy: 0.8400\n",
            "Epoch 13/100\n",
            "7/7 - 1s - loss: 0.1726 - accuracy: 0.8270 - val_loss: 0.1600 - val_accuracy: 0.8400\n",
            "Epoch 14/100\n",
            "7/7 - 1s - loss: 0.1829 - accuracy: 0.8171 - val_loss: 0.1600 - val_accuracy: 0.8400\n",
            "Epoch 15/100\n",
            "7/7 - 1s - loss: 0.1725 - accuracy: 0.8272 - val_loss: 0.1800 - val_accuracy: 0.8200\n",
            "Epoch 16/100\n",
            "7/7 - 1s - loss: 0.1641 - accuracy: 0.8354 - val_loss: 0.1800 - val_accuracy: 0.8200\n",
            "Epoch 17/100\n",
            "7/7 - 1s - loss: 0.1679 - accuracy: 0.8319 - val_loss: 0.1800 - val_accuracy: 0.8200\n",
            "Epoch 18/100\n",
            "7/7 - 1s - loss: 0.1796 - accuracy: 0.8203 - val_loss: 0.1799 - val_accuracy: 0.8200\n",
            "Epoch 19/100\n",
            "7/7 - 1s - loss: 0.1750 - accuracy: 0.8238 - val_loss: 0.1400 - val_accuracy: 0.8600\n",
            "Epoch 20/100\n",
            "7/7 - 1s - loss: 0.1634 - accuracy: 0.8365 - val_loss: 0.1400 - val_accuracy: 0.8600\n",
            "Epoch 21/100\n",
            "7/7 - 1s - loss: 0.1654 - accuracy: 0.8342 - val_loss: 0.1400 - val_accuracy: 0.8600\n",
            "Epoch 22/100\n",
            "7/7 - 1s - loss: 0.1511 - accuracy: 0.8487 - val_loss: 0.1200 - val_accuracy: 0.8800\n",
            "Epoch 23/100\n",
            "7/7 - 1s - loss: 0.1614 - accuracy: 0.8383 - val_loss: 0.1400 - val_accuracy: 0.8600\n",
            "Epoch 24/100\n",
            "7/7 - 1s - loss: 0.1574 - accuracy: 0.8423 - val_loss: 0.1200 - val_accuracy: 0.8800\n",
            "Epoch 25/100\n",
            "7/7 - 1s - loss: 0.1578 - accuracy: 0.8414 - val_loss: 0.1200 - val_accuracy: 0.8800\n",
            "Epoch 26/100\n",
            "7/7 - 1s - loss: 0.1545 - accuracy: 0.8449 - val_loss: 0.1200 - val_accuracy: 0.8800\n",
            "Epoch 27/100\n",
            "7/7 - 1s - loss: 0.1594 - accuracy: 0.8400 - val_loss: 0.1400 - val_accuracy: 0.8600\n",
            "Epoch 28/100\n",
            "7/7 - 1s - loss: 0.1545 - accuracy: 0.8452 - val_loss: 0.1400 - val_accuracy: 0.8600\n",
            "Epoch 29/100\n",
            "7/7 - 1s - loss: 0.2117 - accuracy: 0.7881 - val_loss: 0.1600 - val_accuracy: 0.8400\n",
            "Epoch 30/100\n",
            "7/7 - 1s - loss: 0.1729 - accuracy: 0.8267 - val_loss: 0.1429 - val_accuracy: 0.8400\n",
            "Epoch 31/100\n",
            "7/7 - 1s - loss: 0.1651 - accuracy: 0.8339 - val_loss: 0.1200 - val_accuracy: 0.8800\n",
            "Epoch 32/100\n",
            "7/7 - 1s - loss: 0.1624 - accuracy: 0.8374 - val_loss: 0.1600 - val_accuracy: 0.8400\n",
            "Epoch 33/100\n",
            "7/7 - 1s - loss: 0.1915 - accuracy: 0.8081 - val_loss: 0.1600 - val_accuracy: 0.8400\n",
            "Epoch 34/100\n",
            "7/7 - 1s - loss: 0.1656 - accuracy: 0.8342 - val_loss: 0.1000 - val_accuracy: 0.9000\n",
            "Epoch 35/100\n",
            "7/7 - 1s - loss: 0.1594 - accuracy: 0.8406 - val_loss: 0.1790 - val_accuracy: 0.8200\n",
            "Epoch 36/100\n",
            "7/7 - 1s - loss: 0.1600 - accuracy: 0.8397 - val_loss: 0.1400 - val_accuracy: 0.8600\n",
            "Epoch 37/100\n",
            "7/7 - 1s - loss: 0.1590 - accuracy: 0.8409 - val_loss: 0.1800 - val_accuracy: 0.8200\n",
            "Epoch 38/100\n",
            "7/7 - 1s - loss: 0.1698 - accuracy: 0.8299 - val_loss: 0.1000 - val_accuracy: 0.9000\n",
            "Epoch 39/100\n",
            "7/7 - 1s - loss: 0.1582 - accuracy: 0.8417 - val_loss: 0.1600 - val_accuracy: 0.8400\n",
            "Epoch 40/100\n",
            "7/7 - 1s - loss: 0.1716 - accuracy: 0.8284 - val_loss: 0.1600 - val_accuracy: 0.8400\n",
            "Epoch 41/100\n",
            "7/7 - 1s - loss: 0.1626 - accuracy: 0.8371 - val_loss: 0.1399 - val_accuracy: 0.8600\n",
            "Epoch 42/100\n",
            "7/7 - 1s - loss: 0.1783 - accuracy: 0.8214 - val_loss: 0.1796 - val_accuracy: 0.8200\n",
            "Epoch 43/100\n",
            "7/7 - 1s - loss: 0.1622 - accuracy: 0.8377 - val_loss: 0.1400 - val_accuracy: 0.8600\n",
            "Epoch 44/100\n",
            "7/7 - 1s - loss: 0.1542 - accuracy: 0.8455 - val_loss: 0.1000 - val_accuracy: 0.9000\n",
            "Epoch 45/100\n",
            "7/7 - 1s - loss: 0.1606 - accuracy: 0.8391 - val_loss: 0.1400 - val_accuracy: 0.8600\n",
            "Epoch 46/100\n",
            "7/7 - 1s - loss: 0.1659 - accuracy: 0.8339 - val_loss: 0.1200 - val_accuracy: 0.8800\n",
            "Epoch 47/100\n",
            "7/7 - 1s - loss: 0.1510 - accuracy: 0.8490 - val_loss: 0.1400 - val_accuracy: 0.8600\n",
            "Epoch 48/100\n",
            "7/7 - 1s - loss: 0.1794 - accuracy: 0.8203 - val_loss: 0.2002 - val_accuracy: 0.8000\n",
            "Epoch 49/100\n",
            "7/7 - 1s - loss: 0.1877 - accuracy: 0.8122 - val_loss: 0.1800 - val_accuracy: 0.8200\n",
            "Epoch 50/100\n",
            "7/7 - 1s - loss: 0.1587 - accuracy: 0.8409 - val_loss: 0.1000 - val_accuracy: 0.9000\n",
            "Epoch 51/100\n",
            "7/7 - 1s - loss: 0.1566 - accuracy: 0.8429 - val_loss: 0.1600 - val_accuracy: 0.8400\n",
            "Epoch 52/100\n",
            "7/7 - 1s - loss: 0.1741 - accuracy: 0.8255 - val_loss: 0.1400 - val_accuracy: 0.8600\n",
            "Epoch 53/100\n",
            "7/7 - 1s - loss: 0.1538 - accuracy: 0.8452 - val_loss: 0.1600 - val_accuracy: 0.8400\n",
            "Epoch 54/100\n",
            "7/7 - 1s - loss: 0.2185 - accuracy: 0.7812 - val_loss: 0.2400 - val_accuracy: 0.7600\n",
            "Epoch 55/100\n",
            "7/7 - 1s - loss: 0.1928 - accuracy: 0.8070 - val_loss: 0.1400 - val_accuracy: 0.8600\n",
            "Epoch 56/100\n",
            "7/7 - 1s - loss: 0.1464 - accuracy: 0.8530 - val_loss: 0.1233 - val_accuracy: 0.8800\n",
            "Epoch 57/100\n",
            "7/7 - 1s - loss: 0.1490 - accuracy: 0.8510 - val_loss: 0.1200 - val_accuracy: 0.8800\n",
            "Epoch 58/100\n",
            "7/7 - 1s - loss: 0.1442 - accuracy: 0.8557 - val_loss: 0.1200 - val_accuracy: 0.8800\n",
            "Epoch 59/100\n",
            "7/7 - 1s - loss: 0.1503 - accuracy: 0.8493 - val_loss: 0.1200 - val_accuracy: 0.8800\n",
            "Epoch 60/100\n",
            "7/7 - 1s - loss: 0.1499 - accuracy: 0.8496 - val_loss: 0.1937 - val_accuracy: 0.8000\n",
            "Epoch 61/100\n",
            "7/7 - 1s - loss: 0.1871 - accuracy: 0.8125 - val_loss: 0.1400 - val_accuracy: 0.8600\n",
            "Epoch 62/100\n",
            "7/7 - 1s - loss: 0.1620 - accuracy: 0.8374 - val_loss: 0.1598 - val_accuracy: 0.8400\n",
            "Epoch 63/100\n",
            "7/7 - 1s - loss: 0.1555 - accuracy: 0.8443 - val_loss: 0.1600 - val_accuracy: 0.8400\n",
            "Epoch 64/100\n",
            "7/7 - 1s - loss: 0.1741 - accuracy: 0.8255 - val_loss: 0.1400 - val_accuracy: 0.8600\n",
            "Epoch 65/100\n",
            "7/7 - 1s - loss: 0.1921 - accuracy: 0.8075 - val_loss: 0.1547 - val_accuracy: 0.8400\n",
            "Epoch 66/100\n",
            "7/7 - 1s - loss: 0.2511 - accuracy: 0.7487 - val_loss: 0.3000 - val_accuracy: 0.7000\n",
            "Epoch 67/100\n",
            "7/7 - 1s - loss: 0.2584 - accuracy: 0.7412 - val_loss: 0.1200 - val_accuracy: 0.8800\n",
            "Epoch 68/100\n",
            "7/7 - 1s - loss: 0.1685 - accuracy: 0.8313 - val_loss: 0.1400 - val_accuracy: 0.8600\n",
            "Epoch 69/100\n",
            "7/7 - 1s - loss: 0.1784 - accuracy: 0.8214 - val_loss: 0.1200 - val_accuracy: 0.8800\n",
            "Epoch 70/100\n",
            "7/7 - 1s - loss: 0.1618 - accuracy: 0.8380 - val_loss: 0.1400 - val_accuracy: 0.8600\n",
            "Epoch 71/100\n",
            "7/7 - 1s - loss: 0.1485 - accuracy: 0.8513 - val_loss: 0.1400 - val_accuracy: 0.8600\n",
            "Epoch 72/100\n",
            "7/7 - 1s - loss: 0.1700 - accuracy: 0.8299 - val_loss: 0.1600 - val_accuracy: 0.8400\n",
            "Epoch 73/100\n",
            "7/7 - 1s - loss: 0.1686 - accuracy: 0.8310 - val_loss: 0.1400 - val_accuracy: 0.8600\n",
            "Epoch 74/100\n",
            "7/7 - 1s - loss: 0.1488 - accuracy: 0.8510 - val_loss: 0.1200 - val_accuracy: 0.8800\n",
            "Epoch 75/100\n",
            "7/7 - 1s - loss: 0.1469 - accuracy: 0.8530 - val_loss: 0.1000 - val_accuracy: 0.9000\n",
            "Epoch 76/100\n",
            "7/7 - 1s - loss: 0.1591 - accuracy: 0.8409 - val_loss: 0.0800 - val_accuracy: 0.9200\n",
            "Epoch 77/100\n",
            "7/7 - 1s - loss: 0.1562 - accuracy: 0.8438 - val_loss: 0.0800 - val_accuracy: 0.9200\n",
            "Epoch 78/100\n",
            "7/7 - 1s - loss: 0.1452 - accuracy: 0.8545 - val_loss: 0.1000 - val_accuracy: 0.9000\n",
            "Epoch 79/100\n",
            "7/7 - 1s - loss: 0.1504 - accuracy: 0.8496 - val_loss: 0.1000 - val_accuracy: 0.9000\n",
            "Epoch 80/100\n",
            "7/7 - 1s - loss: 0.1474 - accuracy: 0.8525 - val_loss: 0.1000 - val_accuracy: 0.9000\n",
            "Epoch 81/100\n",
            "7/7 - 1s - loss: 0.1478 - accuracy: 0.8522 - val_loss: 0.1000 - val_accuracy: 0.9000\n",
            "Epoch 82/100\n",
            "7/7 - 1s - loss: 0.1660 - accuracy: 0.8336 - val_loss: 0.1200 - val_accuracy: 0.8800\n",
            "Epoch 83/100\n",
            "7/7 - 1s - loss: 0.1779 - accuracy: 0.8214 - val_loss: 0.1400 - val_accuracy: 0.8600\n",
            "Epoch 84/100\n",
            "7/7 - 1s - loss: 0.1539 - accuracy: 0.8458 - val_loss: 0.0800 - val_accuracy: 0.9200\n",
            "Epoch 85/100\n",
            "7/7 - 1s - loss: 0.1446 - accuracy: 0.8554 - val_loss: 0.1000 - val_accuracy: 0.9000\n",
            "Epoch 86/100\n",
            "7/7 - 1s - loss: 0.1509 - accuracy: 0.8490 - val_loss: 0.0800 - val_accuracy: 0.9200\n",
            "Epoch 87/100\n",
            "7/7 - 1s - loss: 0.1437 - accuracy: 0.8562 - val_loss: 0.1000 - val_accuracy: 0.9000\n",
            "Epoch 88/100\n",
            "7/7 - 1s - loss: 0.1563 - accuracy: 0.8432 - val_loss: 0.0800 - val_accuracy: 0.9200\n",
            "Epoch 89/100\n",
            "7/7 - 1s - loss: 0.1618 - accuracy: 0.8380 - val_loss: 0.1195 - val_accuracy: 0.8800\n",
            "Epoch 90/100\n",
            "7/7 - 1s - loss: 0.1547 - accuracy: 0.8452 - val_loss: 0.0800 - val_accuracy: 0.9200\n",
            "Epoch 91/100\n",
            "7/7 - 1s - loss: 0.1457 - accuracy: 0.8539 - val_loss: 0.1200 - val_accuracy: 0.8800\n",
            "Epoch 92/100\n",
            "7/7 - 1s - loss: 0.1436 - accuracy: 0.8565 - val_loss: 0.1000 - val_accuracy: 0.9000\n",
            "Epoch 93/100\n",
            "7/7 - 1s - loss: 0.1526 - accuracy: 0.8475 - val_loss: 0.1200 - val_accuracy: 0.8800\n",
            "Epoch 94/100\n",
            "7/7 - 1s - loss: 0.1505 - accuracy: 0.8496 - val_loss: 0.1200 - val_accuracy: 0.8800\n",
            "Epoch 95/100\n",
            "7/7 - 1s - loss: 0.1516 - accuracy: 0.8478 - val_loss: 0.1200 - val_accuracy: 0.8800\n",
            "Epoch 96/100\n",
            "7/7 - 1s - loss: 0.1522 - accuracy: 0.8475 - val_loss: 0.1000 - val_accuracy: 0.9000\n",
            "Epoch 97/100\n",
            "7/7 - 1s - loss: 0.1575 - accuracy: 0.8420 - val_loss: 0.1600 - val_accuracy: 0.8400\n",
            "Epoch 98/100\n",
            "7/7 - 1s - loss: 0.1959 - accuracy: 0.8038 - val_loss: 0.1400 - val_accuracy: 0.8600\n",
            "Epoch 99/100\n",
            "7/7 - 1s - loss: 0.1475 - accuracy: 0.8522 - val_loss: 0.1000 - val_accuracy: 0.9000\n",
            "Epoch 100/100\n",
            "7/7 - 1s - loss: 0.1440 - accuracy: 0.8559 - val_loss: 0.1200 - val_accuracy: 0.8800\n"
          ]
        }
      ],
      "source": [
        "epoch = 100\n",
        "batchS = 500\n",
        "\n",
        "history = model.fit(data[0:3450], target[0:3450], epochs=epoch, validation_data=(data[3450:], target[3450:]), batch_size=batchS, verbose=2)"
      ]
    },
    {
      "cell_type": "markdown",
      "metadata": {
        "id": "MP2zAC5opfRo"
      },
      "source": [
        "**Test the model**"
      ]
    },
    {
      "cell_type": "markdown",
      "metadata": {
        "id": "9TTkgnUfpbP1"
      },
      "source": [
        "\n",
        "\n",
        "We are going to test the model with % of the total videos. This videos have not been used to train the network."
      ]
    },
    {
      "cell_type": "code",
      "execution_count": null,
      "metadata": {
        "colab": {
          "base_uri": "https://localhost:8080/"
        },
        "id": "8fODZu8waPEJ",
        "outputId": "8bd15b26-6bab-4b4a-ae98-d742df5166b7"
      },
      "outputs": [
        {
          "name": "stdout",
          "output_type": "stream",
          "text": [
            "5/5 [==============================] - 0s 9ms/step - loss: 0.2067 - accuracy: 0.7933\n"
          ]
        }
      ],
      "source": [
        "result = model.evaluate(np.array(data_test), np.array(target_test))"
      ]
    },
    {
      "cell_type": "markdown",
      "metadata": {
        "id": "baZ920SfqADP"
      },
      "source": [
        "\n",
        "**Print the model accuracy**"
      ]
    },
    {
      "cell_type": "code",
      "execution_count": null,
      "metadata": {
        "colab": {
          "base_uri": "https://localhost:8080/"
        },
        "id": "S6UQbZd4aPWM",
        "outputId": "3def8b30-64a0-4c96-a964-c84ac7688f80"
      },
      "outputs": [
        {
          "name": "stdout",
          "output_type": "stream",
          "text": [
            "loss 0.20665837824344635\n",
            "accuracy 0.7933333516120911\n"
          ]
        }
      ],
      "source": [
        "for name, value in zip(model.metrics_names, result):\n",
        "    print(name, value)"
      ]
    },
    {
      "cell_type": "markdown",
      "metadata": {
        "id": "CmqqIj0UqMLy"
      },
      "source": [
        "PLOTING ACCURACY VS EPOCH AND LOSS VS EPOCH"
      ]
    },
    {
      "cell_type": "code",
      "execution_count": null,
      "metadata": {
        "colab": {
          "base_uri": "https://localhost:8080/",
          "height": 299
        },
        "id": "zCYea6wbx51D",
        "outputId": "f3019d8e-4a29-4141-ca04-68a4088101b9"
      },
      "outputs": [
        {
          "data": {
            "image/png": "[encoded data removed]",
            "text/plain": [
              "<Figure size 432x288 with 1 Axes>"
            ]
          },
          "metadata": {},
          "output_type": "display_data"
        }
      ],
      "source": [
        "# plot the training loss and accuracy\n",
        "N = epoch\n",
        "plt.style.use(\"ggplot\")\n",
        "plt.figure()\n",
        "plt.plot(np.arange(0, N), history.history[\"loss\"], label=\"train_loss\")\n",
        "# plt.plot(np.arange(0, N), history.history[\"val_loss\"], label=\"val_loss\")\n",
        "plt.plot(np.arange(0, N), history.history[\"accuracy\"], label=\"train_acc\")\n",
        "# plt.plot(np.arange(0, N), history.history[\"val_accuracy\"], label=\"val_acc\")\n",
        "plt.title(\"Training Loss and Accuracy\")\n",
        "plt.xlabel(\"Epoch\")\n",
        "plt.ylabel(\"Loss/Accuracy\")\n",
        "plt.legend(loc=\"lower left\")\n",
        "plt.savefig('model_accuracy2.jpg')"
      ]
    },
    {
      "cell_type": "code",
      "execution_count": null,
      "metadata": {
        "colab": {
          "base_uri": "https://localhost:8080/",
          "height": 299
        },
        "id": "C2dpDMrqxCmj",
        "outputId": "2c773571-0426-4c89-b1f2-675f41168321"
      },
      "outputs": [
        {
          "data": {
            "image/png": "[encoded data removed]",
            "text/plain": [
              "<Figure size 432x288 with 1 Axes>"
            ]
          },
          "metadata": {},
          "output_type": "display_data"
        }
      ],
      "source": [
        "# plot the training loss and accuracy\n",
        "N = epoch\n",
        "plt.style.use(\"ggplot\")\n",
        "plt.figure()\n",
        "plt.plot(np.arange(0, N), history.history[\"loss\"], label=\"train_loss\")\n",
        "plt.plot(np.arange(0, N), history.history[\"val_loss\"], label=\"val_loss\")\n",
        "plt.plot(np.arange(0, N), history.history[\"accuracy\"], label=\"train_acc\")\n",
        "plt.plot(np.arange(0, N), history.history[\"val_accuracy\"], label=\"val_acc\")\n",
        "plt.title(\"Training Loss and Accuracy\")\n",
        "plt.xlabel(\"Epoch\")\n",
        "plt.ylabel(\"Loss/Accuracy\")\n",
        "plt.legend(loc=\"lower left\")\n",
        "plt.savefig('model_loss2.jpg')"
      ]
    },
    {
      "cell_type": "code",
      "execution_count": null,
      "metadata": {
        "colab": {
          "base_uri": "https://localhost:8080/",
          "height": 581
        },
        "id": "5k5zO25ev1Y3",
        "outputId": "207499ab-f69b-4d46-cd73-85f44e19d642"
      },
      "outputs": [
        {
          "data": {
            "image/png": "[encoded data removed]",
            "text/plain": [
              "<Figure size 432x288 with 1 Axes>"
            ]
          },
          "metadata": {},
          "output_type": "display_data"
        },
        {
          "data": {
            "image/png": "[encoded data removed]",
            "text/plain": [
              "<Figure size 432x288 with 1 Axes>"
            ]
          },
          "metadata": {},
          "output_type": "display_data"
        }
      ],
      "source": [
        "# summarize history for accuracy\n",
        "plt.plot(history.history['accuracy'])\n",
        "plt.title('model accuracy')\n",
        "plt.ylabel('accuracy')\n",
        "plt.xlabel('epoch')\n",
        "plt.legend(['train'], loc='lower right')\n",
        "# plt.savefig('destination_path1.eps', format='eps', dpi=1000)\n",
        "plt.savefig('model_accuracy1.jpg')\n",
        "plt.show()\n",
        "\n",
        "# summarize history for loss\n",
        "plt.plot(history.history['loss'])\n",
        "plt.title('model loss')\n",
        "plt.ylabel('loss')\n",
        "plt.xlabel('epoch')\n",
        "plt.legend(['train'], loc='upper left')\n",
        "# plt.savefig('destination_path1.eps', format='eps', dpi=1000)\n",
        "plt.savefig('model_loss1.jpg')\n",
        "plt.show()"
      ]
    },
    {
      "cell_type": "code",
      "execution_count": null,
      "metadata": {
        "colab": {
          "base_uri": "https://localhost:8080/",
          "height": 581
        },
        "id": "6XkNxJo1RG5r",
        "outputId": "c59a1b4a-0e68-4a2f-d732-135a37632da8"
      },
      "outputs": [
        {
          "data": {
            "image/png": "[encoded data removed]",
            "text/plain": [
              "<Figure size 432x288 with 1 Axes>"
            ]
          },
          "metadata": {},
          "output_type": "display_data"
        },
        {
          "data": {
            "image/png": "[encoded data removed]",
            "text/plain": [
              "<Figure size 432x288 with 1 Axes>"
            ]
          },
          "metadata": {},
          "output_type": "display_data"
        }
      ],
      "source": [
        "# summarize history for accuracy\n",
        "plt.plot(history.history['accuracy'])\n",
        "plt.plot(history.history['val_accuracy'])\n",
        "plt.title('model accuracy')\n",
        "plt.ylabel('accuracy')\n",
        "plt.xlabel('epoch')\n",
        "plt.legend(['train', 'validation'], loc='lower right')\n",
        "# plt.savefig('destination_path1.eps', format='eps', dpi=1000)\n",
        "plt.savefig('model_accuracy.jpg')\n",
        "plt.show()\n",
        "\n",
        "# summarize history for loss\n",
        "plt.plot(history.history['loss'])\n",
        "plt.plot(history.history['val_loss'])\n",
        "plt.title('model loss')\n",
        "plt.ylabel('loss')\n",
        "plt.xlabel('epoch')\n",
        "plt.legend(['train', 'validation'], loc='upper left')\n",
        "# plt.savefig('destination_path1.eps', format='eps', dpi=1000)\n",
        "plt.savefig('model_loss.jpg')\n",
        "plt.show()"
      ]
    }
  ],
  "metadata": {
    "accelerator": "GPU",
    "colab": {
      "collapsed_sections": [],
      "name": "ResNet101V2 (CNN) Violence Detection.ipynb",
      "provenance": []
    },
    "kernelspec": {
      "display_name": "Python 3",
      "name": "python3"
    }
  },
  "nbformat": 4,
  "nbformat_minor": 0
}
